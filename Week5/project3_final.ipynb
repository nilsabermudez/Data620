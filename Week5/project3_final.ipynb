{
 "cells": [
  {
   "cell_type": "markdown",
   "metadata": {},
   "source": [
    "# Data 620 - Week5 Group Project #3\n",
    "\n",
    "# Team Members\n",
    "* # Ali Ahmed, Nilsa Bermudez, Ursula Podosenin\n",
    "\n",
    "https://youtu.be/8aZzjlJgv_8\n",
    "\n",
    "# Overview\n",
    "\n",
    "Using any of the three classifiers described in chapter 6 of Natural Language Processing with Python, and any features you can think of, build the best name gender classifier you can. \n",
    "\n",
    "Begin by splitting the Names Corpus into three subsets: 500 words for the test set, 500 words for the dev-test set, and the remaining 6900 words for the training set. Then, starting with the example name gender classifier, make incremental improvements. Use the dev-test set to check your progress. Once you are satisfied with your classifier, check its final performance on the test set.\n",
    "\n",
    "How does the performance on the test set compare to the performance on the dev-test set?\n",
    "Is this what you'd expect?\n"
   ]
  },
  {
   "cell_type": "code",
   "execution_count": 1,
   "metadata": {},
   "outputs": [
    {
     "name": "stderr",
     "output_type": "stream",
     "text": [
      "[nltk_data] Downloading package names to\n",
      "[nltk_data]     C:\\Users\\nilsa\\AppData\\Roaming\\nltk_data...\n",
      "[nltk_data]   Package names is already up-to-date!\n"
     ]
    },
    {
     "data": {
      "text/plain": [
       "True"
      ]
     },
     "execution_count": 1,
     "metadata": {},
     "output_type": "execute_result"
    }
   ],
   "source": [
    "# Import libraries needed\n",
    "import random\n",
    "import nltk\n",
    "from nltk.corpus import names\n",
    "from nltk.classify import apply_features\n",
    "from nltk.classify import NaiveBayesClassifier\n",
    "nltk.download('names')"
   ]
  },
  {
   "cell_type": "code",
   "execution_count": 2,
   "metadata": {
    "execution": {
     "iopub.execute_input": "2025-06-19T23:35:15.315992Z",
     "iopub.status.busy": "2025-06-19T23:35:15.315734Z",
     "iopub.status.idle": "2025-06-19T23:35:15.480441Z",
     "shell.execute_reply": "2025-06-19T23:35:15.479402Z",
     "shell.execute_reply.started": "2025-06-19T23:35:15.315972Z"
    }
   },
   "outputs": [],
   "source": [
    "# Label all the names with gender\n",
    "labeled_names = [(name, 'male') for name in names.words('male.txt')] + \\\n",
    "                [(name, 'female') for name in names.words('female.txt')]\n",
    "\n",
    "# Shuffle the dataset here\n",
    "random.shuffle(labeled_names)\n",
    "\n",
    "# Split the data into training (6900), dev-test (500), and test (500) as per the assignment\n",
    "train_set = labeled_names[1000:]\n",
    "devtest_set = labeled_names[500:1000]\n",
    "test_set = labeled_names[:500]\n"
   ]
  },
  {
   "cell_type": "markdown",
   "metadata": {},
   "source": [
    "**Start with a few features**"
   ]
  },
  {
   "cell_type": "code",
   "execution_count": 3,
   "metadata": {},
   "outputs": [],
   "source": [
    "def gender_featuresfirstlast(word):\n",
    "    featuresfirstlast = {\n",
    "        'first_letter': word[0].lower(),\n",
    "        'last_letter': word[-1].lower(),\n",
    "        'last_two': word[-2:].lower()\n",
    "    }\n",
    "    for letter in 'abcdefghijklmnopqrstuvwxyz':\n",
    "        featuresfirstlast[f'count_{letter}'] = word.lower().count(letter)\n",
    "    return featuresfirstlast"
   ]
  },
  {
   "cell_type": "code",
   "execution_count": 4,
   "metadata": {},
   "outputs": [],
   "source": [
    "train_feats1 = [(gender_featuresfirstlast(n), g) for (n, g) in train_set]\n",
    "devtest_feats1 = [(gender_featuresfirstlast(n), g) for (n, g) in devtest_set]\n",
    "test_feats1 = [(gender_featuresfirstlast(n), g) for (n, g) in test_set]\n",
    "\n",
    "classifier = NaiveBayesClassifier.train(train_feats1)\n"
   ]
  },
  {
   "cell_type": "code",
   "execution_count": 5,
   "metadata": {},
   "outputs": [
    {
     "name": "stdout",
     "output_type": "stream",
     "text": [
      "Dev-Test Accuracy1: 0.796\n",
      "Test Accuracy1: 0.8\n",
      "Most Informative Features\n",
      "                last_two = 'na'           female : male   =     93.9 : 1.0\n",
      "                last_two = 'la'           female : male   =     71.1 : 1.0\n",
      "             last_letter = 'k'              male : female =     64.6 : 1.0\n",
      "             last_letter = 'a'            female : male   =     36.4 : 1.0\n",
      "                last_two = 'ia'           female : male   =     36.3 : 1.0\n",
      "                last_two = 'sa'           female : male   =     35.2 : 1.0\n",
      "                last_two = 'ra'           female : male   =     34.4 : 1.0\n",
      "                last_two = 'ta'           female : male   =     31.7 : 1.0\n",
      "                last_two = 'rd'             male : female =     29.1 : 1.0\n",
      "                last_two = 'us'             male : female =     26.7 : 1.0\n"
     ]
    }
   ],
   "source": [
    "# Here is the Accuracy on dev-test and test sets\n",
    "print(\"Dev-Test Accuracy1:\", nltk.classify.accuracy(classifier, devtest_feats1))\n",
    "print(\"Test Accuracy1:\", nltk.classify.accuracy(classifier, test_feats1))\n",
    "\n",
    "# Show informative features\n",
    "classifier.show_most_informative_features(10)"
   ]
  },
  {
   "cell_type": "code",
   "execution_count": 6,
   "metadata": {},
   "outputs": [
    {
     "name": "stdout",
     "output_type": "stream",
     "text": [
      "\n",
      "10 misclassified names:\n",
      "Name: Brook                True: female  Predicted: male\n",
      "Name: Darsey               True: female  Predicted: male\n",
      "Name: Hildagard            True: female  Predicted: male\n",
      "Name: Lark                 True: female  Predicted: male\n",
      "Name: Teddy                True: female  Predicted: male\n",
      "Name: Yoko                 True: female  Predicted: male\n",
      "Name: Roni                 True: male    Predicted: female\n",
      "Name: Sebastien            True: male    Predicted: female\n",
      "Name: Tally                True: male    Predicted: female\n",
      "Name: Tymothy              True: male    Predicted: female\n"
     ]
    }
   ],
   "source": [
    "errors = []\n",
    "for (name, gender) in devtest_set:\n",
    "    guess = classifier.classify(gender_featuresfirstlast(name))\n",
    "    if guess != gender:\n",
    "        errors.append((gender, guess, name))\n",
    "\n",
    "print(\"\\n10 misclassified names:\")\n",
    "for (gender, guess, name) in sorted(errors[:10]):  \n",
    "    print(f\"Name: {name:<20} True: {gender:<7} Predicted: {guess}\")"
   ]
  },
  {
   "cell_type": "markdown",
   "metadata": {},
   "source": [
    "**Check other features**"
   ]
  },
  {
   "cell_type": "code",
   "execution_count": 7,
   "metadata": {},
   "outputs": [],
   "source": [
    "def gender_featuresvowellength(word):\n",
    "    featuresvowellength = {\n",
    "        'last_is_vowel': word[-1].lower() in 'aeiou',\n",
    "        'name_length': len(word),\n",
    "    }\n",
    "    for letter in 'abcdefghijklmnopqrstuvwxyz':\n",
    "        featuresvowellength[f'count_{letter}'] = word.lower().count(letter)\n",
    "    return featuresvowellength"
   ]
  },
  {
   "cell_type": "code",
   "execution_count": 8,
   "metadata": {},
   "outputs": [],
   "source": [
    "train_feats2 = [(gender_featuresvowellength(n), g) for (n, g) in train_set]\n",
    "devtest_feats2 = [(gender_featuresvowellength(n), g) for (n, g) in devtest_set]\n",
    "test_feats2 = [(gender_featuresvowellength(n), g) for (n, g) in test_set]\n",
    "\n",
    "classifier = NaiveBayesClassifier.train(train_feats2)"
   ]
  },
  {
   "cell_type": "code",
   "execution_count": 9,
   "metadata": {},
   "outputs": [
    {
     "name": "stdout",
     "output_type": "stream",
     "text": [
      "Dev-Test Accuracy2: 0.76\n",
      "Test Accuracy2: 0.75\n",
      "Most Informative Features\n",
      "                 count_v = 2              female : male   =      8.9 : 1.0\n",
      "                 count_a = 3              female : male   =      5.1 : 1.0\n",
      "                 count_y = 2              female : male   =      5.1 : 1.0\n",
      "                 count_w = 1                male : female =      4.2 : 1.0\n",
      "                 count_o = 2                male : female =      3.7 : 1.0\n",
      "                 count_f = 2                male : female =      3.2 : 1.0\n",
      "                 count_i = 3                male : female =      3.1 : 1.0\n",
      "                 count_w = 2                male : female =      3.0 : 1.0\n",
      "                 count_a = 2              female : male   =      3.0 : 1.0\n",
      "           last_is_vowel = True           female : male   =      2.8 : 1.0\n"
     ]
    }
   ],
   "source": [
    "# Here is the Accuracy on dev-test and test sets\n",
    "print(\"Dev-Test Accuracy2:\", nltk.classify.accuracy(classifier, devtest_feats2))\n",
    "print(\"Test Accuracy2:\", nltk.classify.accuracy(classifier, test_feats2))\n",
    "\n",
    "# Show informative features\n",
    "classifier.show_most_informative_features(10)"
   ]
  },
  {
   "cell_type": "code",
   "execution_count": 10,
   "metadata": {},
   "outputs": [
    {
     "name": "stdout",
     "output_type": "stream",
     "text": [
      "\n",
      "10 misclassified names:\n",
      "Name: Brook                True: female  Predicted: male\n",
      "Name: Darsey               True: female  Predicted: male\n",
      "Name: Lark                 True: female  Predicted: male\n",
      "Name: Marley               True: female  Predicted: male\n",
      "Name: Yoko                 True: female  Predicted: male\n",
      "Name: Galen                True: male    Predicted: female\n",
      "Name: Roni                 True: male    Predicted: female\n",
      "Name: Sebastien            True: male    Predicted: female\n",
      "Name: Tally                True: male    Predicted: female\n",
      "Name: Tymothy              True: male    Predicted: female\n"
     ]
    }
   ],
   "source": [
    "errors = []\n",
    "for (name, gender) in devtest_set:\n",
    "    guess = classifier.classify(gender_featuresvowellength(name))\n",
    "    if guess != gender:\n",
    "        errors.append((gender, guess, name))\n",
    "\n",
    "print(\"\\n10 misclassified names:\")\n",
    "for (gender, guess, name) in sorted(errors[:10]):  \n",
    "    print(f\"Name: {name:<20} True: {gender:<7} Predicted: {guess}\")"
   ]
  },
  {
   "cell_type": "markdown",
   "metadata": {},
   "source": [
    "**All features**"
   ]
  },
  {
   "cell_type": "code",
   "execution_count": 11,
   "metadata": {
    "execution": {
     "iopub.execute_input": "2025-06-19T23:35:15.481639Z",
     "iopub.status.busy": "2025-06-19T23:35:15.481370Z",
     "iopub.status.idle": "2025-06-19T23:35:15.501143Z",
     "shell.execute_reply": "2025-06-19T23:35:15.499830Z",
     "shell.execute_reply.started": "2025-06-19T23:35:15.481619Z"
    }
   },
   "outputs": [],
   "source": [
    "def gender_features(word):\n",
    "    features = {\n",
    "        'first_letter': word[0].lower(),\n",
    "        'last_letter': word[-1].lower(),\n",
    "        'last_two': word[-2:].lower(),\n",
    "        'last_is_vowel': word[-1].lower() in 'aeiou',\n",
    "        'name_length': len(word),\n",
    "    }\n",
    "    for letter in 'abcdefghijklmnopqrstuvwxyz':\n",
    "        features[f'count_{letter}'] = word.lower().count(letter)\n",
    "    return features"
   ]
  },
  {
   "cell_type": "code",
   "execution_count": 12,
   "metadata": {
    "execution": {
     "iopub.execute_input": "2025-06-19T23:35:15.502795Z",
     "iopub.status.busy": "2025-06-19T23:35:15.502473Z",
     "iopub.status.idle": "2025-06-19T23:35:15.549656Z",
     "shell.execute_reply": "2025-06-19T23:35:15.548686Z",
     "shell.execute_reply.started": "2025-06-19T23:35:15.502768Z"
    }
   },
   "outputs": [],
   "source": [
    "train_feats = [(gender_features(n), g) for (n, g) in train_set]\n",
    "devtest_feats = [(gender_features(n), g) for (n, g) in devtest_set]\n",
    "test_feats = [(gender_features(n), g) for (n, g) in test_set]\n",
    "\n",
    "classifier = NaiveBayesClassifier.train(train_feats)"
   ]
  },
  {
   "cell_type": "code",
   "execution_count": 13,
   "metadata": {
    "execution": {
     "iopub.execute_input": "2025-06-19T23:35:15.551951Z",
     "iopub.status.busy": "2025-06-19T23:35:15.551662Z",
     "iopub.status.idle": "2025-06-19T23:35:15.664867Z",
     "shell.execute_reply": "2025-06-19T23:35:15.664085Z",
     "shell.execute_reply.started": "2025-06-19T23:35:15.551927Z"
    }
   },
   "outputs": [
    {
     "name": "stdout",
     "output_type": "stream",
     "text": [
      "Dev-Test Accuracy: 0.792\n",
      "Test Accuracy: 0.764\n",
      "Most Informative Features\n",
      "                last_two = 'na'           female : male   =     93.9 : 1.0\n",
      "                last_two = 'la'           female : male   =     71.1 : 1.0\n",
      "             last_letter = 'k'              male : female =     64.6 : 1.0\n",
      "             last_letter = 'a'            female : male   =     36.4 : 1.0\n",
      "                last_two = 'ia'           female : male   =     36.3 : 1.0\n",
      "                last_two = 'sa'           female : male   =     35.2 : 1.0\n",
      "                last_two = 'ra'           female : male   =     34.4 : 1.0\n",
      "                last_two = 'ta'           female : male   =     31.7 : 1.0\n",
      "                last_two = 'rd'             male : female =     29.1 : 1.0\n",
      "                last_two = 'us'             male : female =     26.7 : 1.0\n"
     ]
    }
   ],
   "source": [
    "# Here is the Accuracy on dev-test and test sets\n",
    "print(\"Dev-Test Accuracy:\", nltk.classify.accuracy(classifier, devtest_feats))\n",
    "print(\"Test Accuracy:\", nltk.classify.accuracy(classifier, test_feats))\n",
    "\n",
    "# Show informative features\n",
    "classifier.show_most_informative_features(10)"
   ]
  },
  {
   "cell_type": "code",
   "execution_count": 14,
   "metadata": {
    "execution": {
     "iopub.execute_input": "2025-06-19T23:35:15.666133Z",
     "iopub.status.busy": "2025-06-19T23:35:15.665847Z",
     "iopub.status.idle": "2025-06-19T23:35:17.148892Z",
     "shell.execute_reply": "2025-06-19T23:35:17.148047Z",
     "shell.execute_reply.started": "2025-06-19T23:35:15.666109Z"
    }
   },
   "outputs": [
    {
     "name": "stdout",
     "output_type": "stream",
     "text": [
      "\n",
      "10 misclassified names:\n",
      "Name: Brook                True: female  Predicted: male\n",
      "Name: Cary                 True: female  Predicted: male\n",
      "Name: Darsey               True: female  Predicted: male\n",
      "Name: Hildagard            True: female  Predicted: male\n",
      "Name: Lark                 True: female  Predicted: male\n",
      "Name: Marley               True: female  Predicted: male\n",
      "Name: Teddy                True: female  Predicted: male\n",
      "Name: Yoko                 True: female  Predicted: male\n",
      "Name: Berkie               True: male    Predicted: female\n",
      "Name: Roni                 True: male    Predicted: female\n"
     ]
    }
   ],
   "source": [
    "# Misclassified names in the dev-test set\n",
    "errors = []\n",
    "for (name, gender) in devtest_set:\n",
    "    guess = classifier.classify(gender_features(name))\n",
    "    if guess != gender:\n",
    "        errors.append((gender, guess, name))\n",
    "\n",
    "print(\"\\n10 misclassified names:\")\n",
    "for (gender, guess, name) in sorted(errors[:10]):  \n",
    "    print(f\"Name: {name:<20} True: {gender:<7} Predicted: {guess}\")\n"
   ]
  },
  {
   "cell_type": "code",
   "execution_count": 15,
   "metadata": {},
   "outputs": [
    {
     "data": {
      "image/png": "[encoded data removed]",
      "text/plain": [
       "<Figure size 600x400 with 1 Axes>"
      ]
     },
     "metadata": {},
     "output_type": "display_data"
    },
    {
     "data": {
      "image/png": "[encoded data removed]",
      "text/plain": [
       "<Figure size 600x400 with 1 Axes>"
      ]
     },
     "metadata": {},
     "output_type": "display_data"
    }
   ],
   "source": [
    "\n",
    "import matplotlib.pyplot as plt\n",
    "\n",
    "# These are the accuracies\n",
    "accuracies = {\n",
    "    \"Dev-Test\": nltk.classify.accuracy(classifier, devtest_feats),\n",
    "    \"Test\": nltk.classify.accuracy(classifier, test_feats)\n",
    "}\n",
    "\n",
    "# This is the Bar plot of accuracies\n",
    "plt.figure(figsize=(6, 4))\n",
    "plt.bar(accuracies.keys(), accuracies.values(), color=['steelblue', 'darkorange'])\n",
    "plt.ylim(0.6, 1.0)\n",
    "plt.ylabel(\"Accuracy\")\n",
    "plt.title(\"Accuracy Comparison\")\n",
    "plt.grid(axis='y')\n",
    "plt.show()\n",
    "\n",
    "informative = classifier.most_informative_features(10)\n",
    "\n",
    "\n",
    "# Misclassification Counts Visualizd\n",
    "\n",
    "import pandas as pd\n",
    "# errors dataframe\n",
    "errors_df = pd.DataFrame(errors, columns=[\"Correct Gender\", \"Predicted\", \"Name\"])\n",
    "\n",
    "# How many female names were misclassifed as male and vice versa\n",
    "error_counts = errors_df.groupby([\"Correct Gender\", \"Predicted\"]).size().reset_index(name=\"Count\")\n",
    "\n",
    "# Here is the Bar plot of count of the misclassification counts\n",
    "plt.figure(figsize=(6,4))\n",
    "for correct_gender in error_counts[\"Correct Gender\"].unique():\n",
    "    subset = error_counts[error_counts[\"Correct Gender\"] == correct_gender]\n",
    "    plt.bar(subset[\"Predicted\"], subset[\"Count\"], label=f\"Correct Gender: {correct_gender}\")\n",
    "\n",
    "plt.ylabel(\"Number of Misclassified Names\")\n",
    "plt.title(\"Misclassifications\")\n",
    "plt.legend()\n",
    "plt.grid(axis='y')\n",
    "plt.show()"
   ]
  },
  {
   "cell_type": "markdown",
   "metadata": {},
   "source": [
    "## Final Evaluation and Comparison\n",
    "\n",
    "After evaluating our final classifier, we found that the accuracy on this test set is really close to the dev-test accuracy, and we expected that. This small difference indicates that the classifier generalizes well enough and has not overfitted the dev-test set.\n",
    "\n",
    "A small drop in test accuracy is common and acceptable. If the test set accuracy had dropped significantly, it would have indicated overfitting. The consistent performance here confirms that the features selected (such as last letter, name length, vowel/consonant counts) are all useful and generally acceptable.\n",
    "\n",
    "### Error Analysis\n",
    "\n",
    "Upon inspecting the misclassified names, we notice that some names like \"Amadel\" or \"Cyb\" or \"Miran\" are gender-ambiguous and could belong to either gender. This highlights the limitation of using only name-based features and we definitely see potential value in adding external features.\n"
   ]
  },
  {
   "cell_type": "code",
   "execution_count": null,
   "metadata": {},
   "outputs": [],
   "source": []
  }
 ],
 "metadata": {
  "kaggle": {
   "accelerator": "none",
   "dataSources": [],
   "dockerImageVersionId": 31040,
   "isGpuEnabled": false,
   "isInternetEnabled": true,
   "language": "python",
   "sourceType": "notebook"
  },
  "kernelspec": {
   "display_name": "Python 3 (ipykernel)",
   "language": "python",
   "name": "python3"
  },
  "language_info": {
   "codemirror_mode": {
    "name": "ipython",
    "version": 3
   },
   "file_extension": ".py",
   "mimetype": "text/x-python",
   "name": "python",
   "nbconvert_exporter": "python",
   "pygments_lexer": "ipython3",
   "version": "3.7.16"
  }
 },
 "nbformat": 4,
 "nbformat_minor": 4
}
