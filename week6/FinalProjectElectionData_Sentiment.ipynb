{
  "cells": [
    {
      "cell_type": "markdown",
      "metadata": {
        "id": "tCQjvBrmH9OJ"
      },
      "source": [
        "# Final Project Data 620 #\n",
        "#Team Members\n",
        "Ali Ahmed, Nilsa Bermudez, Ursula Podosenin\n",
        "# 2024 U.S. Election Sentiment on X\n",
        "Analyze public sentiment and trends from the 2024 U.S. election using real-time"
      ]
    },
    {
      "cell_type": "markdown",
      "metadata": {
        "id": "J2xaJtquH9OQ"
      },
      "source": [
        "# Importing required Libraries"
      ]
    },
    {
      "cell_type": "code",
      "execution_count": 1,
      "metadata": {
        "id": "ToKhq-05H9O3"
      },
      "outputs": [],
      "source": [
        "# For loading Data and Visualization\n",
        "import tensorflow as tf\n",
        "import pandas as pd\n",
        "import numpy as np\n",
        "import matplotlib.pyplot as plt\n",
        "import seaborn as sns\n",
        "\n",
        "# For preprocessing and creating models\n",
        "from tensorflow.keras.preprocessing.text import Tokenizer\n",
        "from tensorflow.keras.preprocessing.sequence import pad_sequences\n",
        "from tensorflow.keras.models import Sequential\n",
        "from tensorflow.keras.models import Model\n",
        "from tensorflow.keras.layers import Input, Embedding, LSTM, Dense, Dropout, Concatenate\n",
        "from tensorflow.keras.layers import Bidirectional\n",
        "\n",
        "from sklearn.preprocessing import LabelEncoder, OneHotEncoder, StandardScaler\n"
      ]
    },
    {
      "cell_type": "markdown",
      "metadata": {
        "id": "FcX5dJH7H9O6"
      },
      "source": [
        "# Loading data"
      ]
    },
    {
      "cell_type": "code",
      "execution_count": 2,
      "metadata": {
        "colab": {
          "base_uri": "https://localhost:8080/",
          "height": 206
        },
        "id": "Pb7ceJpDH9O9",
        "outputId": "f6f3d9ce-cc22-4946-ab2b-766ffc5543b8"
      },
      "outputs": [
        {
          "output_type": "execute_result",
          "data": {
            "text/plain": [
              "   tweet_id     user_handle            timestamp  \\\n",
              "0         1        @user123  2024-11-03 08:45:00   \n",
              "1         2    @politicsFan  2024-11-03 09:15:23   \n",
              "2         3  @greenAdvocate  2024-11-03 10:05:45   \n",
              "3         4     @indieVoice  2024-11-03 11:20:10   \n",
              "4         5   @libertyLover  2024-11-03 12:35:55   \n",
              "\n",
              "                                          tweet_text       candidate  \\\n",
              "0  Excited to see Kamala Harris leading the Democ...   Kamala Harris   \n",
              "1  Donald Trump's policies are the best for our e...    Donald Trump   \n",
              "2  Jill Stein's environmental plans are exactly w...      Jill Stein   \n",
              "3  Robert Kennedy offers a fresh perspective outs...  Robert Kennedy   \n",
              "4  Chase Oliver's libertarian stance promotes tru...    Chase Oliver   \n",
              "\n",
              "               party  retweets  likes sentiment  \n",
              "0   Democratic Party       120    450  positive  \n",
              "1   Republican Party        85    300  positive  \n",
              "2        Green Party        60    200  positive  \n",
              "3        Independent        40    150   neutral  \n",
              "4  Libertarian Party        30    120  positive  "
            ],
            "text/html": [
              "\n",
              "  <div id=\"df-57e44ccf-0584-4768-9b36-bbf3f4f73928\" class=\"colab-df-container\">\n",
              "    <div>\n",
              "<style scoped>\n",
              "    .dataframe tbody tr th:only-of-type {\n",
              "        vertical-align: middle;\n",
              "    }\n",
              "\n",
              "    .dataframe tbody tr th {\n",
              "        vertical-align: top;\n",
              "    }\n",
              "\n",
              "    .dataframe thead th {\n",
              "        text-align: right;\n",
              "    }\n",
              "</style>\n",
              "<table border=\"1\" class=\"dataframe\">\n",
              "  <thead>\n",
              "    <tr style=\"text-align: right;\">\n",
              "      <th></th>\n",
              "      <th>tweet_id</th>\n",
              "      <th>user_handle</th>\n",
              "      <th>timestamp</th>\n",
              "      <th>tweet_text</th>\n",
              "      <th>candidate</th>\n",
              "      <th>party</th>\n",
              "      <th>retweets</th>\n",
              "      <th>likes</th>\n",
              "      <th>sentiment</th>\n",
              "    </tr>\n",
              "  </thead>\n",
              "  <tbody>\n",
              "    <tr>\n",
              "      <th>0</th>\n",
              "      <td>1</td>\n",
              "      <td>@user123</td>\n",
              "      <td>2024-11-03 08:45:00</td>\n",
              "      <td>Excited to see Kamala Harris leading the Democ...</td>\n",
              "      <td>Kamala Harris</td>\n",
              "      <td>Democratic Party</td>\n",
              "      <td>120</td>\n",
              "      <td>450</td>\n",
              "      <td>positive</td>\n",
              "    </tr>\n",
              "    <tr>\n",
              "      <th>1</th>\n",
              "      <td>2</td>\n",
              "      <td>@politicsFan</td>\n",
              "      <td>2024-11-03 09:15:23</td>\n",
              "      <td>Donald Trump's policies are the best for our e...</td>\n",
              "      <td>Donald Trump</td>\n",
              "      <td>Republican Party</td>\n",
              "      <td>85</td>\n",
              "      <td>300</td>\n",
              "      <td>positive</td>\n",
              "    </tr>\n",
              "    <tr>\n",
              "      <th>2</th>\n",
              "      <td>3</td>\n",
              "      <td>@greenAdvocate</td>\n",
              "      <td>2024-11-03 10:05:45</td>\n",
              "      <td>Jill Stein's environmental plans are exactly w...</td>\n",
              "      <td>Jill Stein</td>\n",
              "      <td>Green Party</td>\n",
              "      <td>60</td>\n",
              "      <td>200</td>\n",
              "      <td>positive</td>\n",
              "    </tr>\n",
              "    <tr>\n",
              "      <th>3</th>\n",
              "      <td>4</td>\n",
              "      <td>@indieVoice</td>\n",
              "      <td>2024-11-03 11:20:10</td>\n",
              "      <td>Robert Kennedy offers a fresh perspective outs...</td>\n",
              "      <td>Robert Kennedy</td>\n",
              "      <td>Independent</td>\n",
              "      <td>40</td>\n",
              "      <td>150</td>\n",
              "      <td>neutral</td>\n",
              "    </tr>\n",
              "    <tr>\n",
              "      <th>4</th>\n",
              "      <td>5</td>\n",
              "      <td>@libertyLover</td>\n",
              "      <td>2024-11-03 12:35:55</td>\n",
              "      <td>Chase Oliver's libertarian stance promotes tru...</td>\n",
              "      <td>Chase Oliver</td>\n",
              "      <td>Libertarian Party</td>\n",
              "      <td>30</td>\n",
              "      <td>120</td>\n",
              "      <td>positive</td>\n",
              "    </tr>\n",
              "  </tbody>\n",
              "</table>\n",
              "</div>\n",
              "    <div class=\"colab-df-buttons\">\n",
              "\n",
              "  <div class=\"colab-df-container\">\n",
              "    <button class=\"colab-df-convert\" onclick=\"convertToInteractive('df-57e44ccf-0584-4768-9b36-bbf3f4f73928')\"\n",
              "            title=\"Convert this dataframe to an interactive table.\"\n",
              "            style=\"display:none;\">\n",
              "\n",
              "  <svg xmlns=\"http://www.w3.org/2000/svg\" height=\"24px\" viewBox=\"0 -960 960 960\">\n",
              "    <path d=\"M120-120v-720h720v720H120Zm60-500h600v-160H180v160Zm220 220h160v-160H400v160Zm0 220h160v-160H400v160ZM180-400h160v-160H180v160Zm440 0h160v-160H620v160ZM180-180h160v-160H180v160Zm440 0h160v-160H620v160Z\"/>\n",
              "  </svg>\n",
              "    </button>\n",
              "\n",
              "  <style>\n",
              "    .colab-df-container {\n",
              "      display:flex;\n",
              "      gap: 12px;\n",
              "    }\n",
              "\n",
              "    .colab-df-convert {\n",
              "      background-color: #E8F0FE;\n",
              "      border: none;\n",
              "      border-radius: 50%;\n",
              "      cursor: pointer;\n",
              "      display: none;\n",
              "      fill: #1967D2;\n",
              "      height: 32px;\n",
              "      padding: 0 0 0 0;\n",
              "      width: 32px;\n",
              "    }\n",
              "\n",
              "    .colab-df-convert:hover {\n",
              "      background-color: #E2EBFA;\n",
              "      box-shadow: 0px 1px 2px rgba(60, 64, 67, 0.3), 0px 1px 3px 1px rgba(60, 64, 67, 0.15);\n",
              "      fill: #174EA6;\n",
              "    }\n",
              "\n",
              "    .colab-df-buttons div {\n",
              "      margin-bottom: 4px;\n",
              "    }\n",
              "\n",
              "    [theme=dark] .colab-df-convert {\n",
              "      background-color: #3B4455;\n",
              "      fill: #D2E3FC;\n",
              "    }\n",
              "\n",
              "    [theme=dark] .colab-df-convert:hover {\n",
              "      background-color: #434B5C;\n",
              "      box-shadow: 0px 1px 3px 1px rgba(0, 0, 0, 0.15);\n",
              "      filter: drop-shadow(0px 1px 2px rgba(0, 0, 0, 0.3));\n",
              "      fill: #FFFFFF;\n",
              "    }\n",
              "  </style>\n",
              "\n",
              "    <script>\n",
              "      const buttonEl =\n",
              "        document.querySelector('#df-57e44ccf-0584-4768-9b36-bbf3f4f73928 button.colab-df-convert');\n",
              "      buttonEl.style.display =\n",
              "        google.colab.kernel.accessAllowed ? 'block' : 'none';\n",
              "\n",
              "      async function convertToInteractive(key) {\n",
              "        const element = document.querySelector('#df-57e44ccf-0584-4768-9b36-bbf3f4f73928');\n",
              "        const dataTable =\n",
              "          await google.colab.kernel.invokeFunction('convertToInteractive',\n",
              "                                                    [key], {});\n",
              "        if (!dataTable) return;\n",
              "\n",
              "        const docLinkHtml = 'Like what you see? Visit the ' +\n",
              "          '<a target=\"_blank\" href=https://colab.research.google.com/notebooks/data_table.ipynb>data table notebook</a>'\n",
              "          + ' to learn more about interactive tables.';\n",
              "        element.innerHTML = '';\n",
              "        dataTable['output_type'] = 'display_data';\n",
              "        await google.colab.output.renderOutput(dataTable, element);\n",
              "        const docLink = document.createElement('div');\n",
              "        docLink.innerHTML = docLinkHtml;\n",
              "        element.appendChild(docLink);\n",
              "      }\n",
              "    </script>\n",
              "  </div>\n",
              "\n",
              "\n",
              "    <div id=\"df-c9026526-a610-4b81-bbde-b6c1f0106433\">\n",
              "      <button class=\"colab-df-quickchart\" onclick=\"quickchart('df-c9026526-a610-4b81-bbde-b6c1f0106433')\"\n",
              "                title=\"Suggest charts\"\n",
              "                style=\"display:none;\">\n",
              "\n",
              "<svg xmlns=\"http://www.w3.org/2000/svg\" height=\"24px\"viewBox=\"0 0 24 24\"\n",
              "     width=\"24px\">\n",
              "    <g>\n",
              "        <path d=\"M19 3H5c-1.1 0-2 .9-2 2v14c0 1.1.9 2 2 2h14c1.1 0 2-.9 2-2V5c0-1.1-.9-2-2-2zM9 17H7v-7h2v7zm4 0h-2V7h2v10zm4 0h-2v-4h2v4z\"/>\n",
              "    </g>\n",
              "</svg>\n",
              "      </button>\n",
              "\n",
              "<style>\n",
              "  .colab-df-quickchart {\n",
              "      --bg-color: #E8F0FE;\n",
              "      --fill-color: #1967D2;\n",
              "      --hover-bg-color: #E2EBFA;\n",
              "      --hover-fill-color: #174EA6;\n",
              "      --disabled-fill-color: #AAA;\n",
              "      --disabled-bg-color: #DDD;\n",
              "  }\n",
              "\n",
              "  [theme=dark] .colab-df-quickchart {\n",
              "      --bg-color: #3B4455;\n",
              "      --fill-color: #D2E3FC;\n",
              "      --hover-bg-color: #434B5C;\n",
              "      --hover-fill-color: #FFFFFF;\n",
              "      --disabled-bg-color: #3B4455;\n",
              "      --disabled-fill-color: #666;\n",
              "  }\n",
              "\n",
              "  .colab-df-quickchart {\n",
              "    background-color: var(--bg-color);\n",
              "    border: none;\n",
              "    border-radius: 50%;\n",
              "    cursor: pointer;\n",
              "    display: none;\n",
              "    fill: var(--fill-color);\n",
              "    height: 32px;\n",
              "    padding: 0;\n",
              "    width: 32px;\n",
              "  }\n",
              "\n",
              "  .colab-df-quickchart:hover {\n",
              "    background-color: var(--hover-bg-color);\n",
              "    box-shadow: 0 1px 2px rgba(60, 64, 67, 0.3), 0 1px 3px 1px rgba(60, 64, 67, 0.15);\n",
              "    fill: var(--button-hover-fill-color);\n",
              "  }\n",
              "\n",
              "  .colab-df-quickchart-complete:disabled,\n",
              "  .colab-df-quickchart-complete:disabled:hover {\n",
              "    background-color: var(--disabled-bg-color);\n",
              "    fill: var(--disabled-fill-color);\n",
              "    box-shadow: none;\n",
              "  }\n",
              "\n",
              "  .colab-df-spinner {\n",
              "    border: 2px solid var(--fill-color);\n",
              "    border-color: transparent;\n",
              "    border-bottom-color: var(--fill-color);\n",
              "    animation:\n",
              "      spin 1s steps(1) infinite;\n",
              "  }\n",
              "\n",
              "  @keyframes spin {\n",
              "    0% {\n",
              "      border-color: transparent;\n",
              "      border-bottom-color: var(--fill-color);\n",
              "      border-left-color: var(--fill-color);\n",
              "    }\n",
              "    20% {\n",
              "      border-color: transparent;\n",
              "      border-left-color: var(--fill-color);\n",
              "      border-top-color: var(--fill-color);\n",
              "    }\n",
              "    30% {\n",
              "      border-color: transparent;\n",
              "      border-left-color: var(--fill-color);\n",
              "      border-top-color: var(--fill-color);\n",
              "      border-right-color: var(--fill-color);\n",
              "    }\n",
              "    40% {\n",
              "      border-color: transparent;\n",
              "      border-right-color: var(--fill-color);\n",
              "      border-top-color: var(--fill-color);\n",
              "    }\n",
              "    60% {\n",
              "      border-color: transparent;\n",
              "      border-right-color: var(--fill-color);\n",
              "    }\n",
              "    80% {\n",
              "      border-color: transparent;\n",
              "      border-right-color: var(--fill-color);\n",
              "      border-bottom-color: var(--fill-color);\n",
              "    }\n",
              "    90% {\n",
              "      border-color: transparent;\n",
              "      border-bottom-color: var(--fill-color);\n",
              "    }\n",
              "  }\n",
              "</style>\n",
              "\n",
              "      <script>\n",
              "        async function quickchart(key) {\n",
              "          const quickchartButtonEl =\n",
              "            document.querySelector('#' + key + ' button');\n",
              "          quickchartButtonEl.disabled = true;  // To prevent multiple clicks.\n",
              "          quickchartButtonEl.classList.add('colab-df-spinner');\n",
              "          try {\n",
              "            const charts = await google.colab.kernel.invokeFunction(\n",
              "                'suggestCharts', [key], {});\n",
              "          } catch (error) {\n",
              "            console.error('Error during call to suggestCharts:', error);\n",
              "          }\n",
              "          quickchartButtonEl.classList.remove('colab-df-spinner');\n",
              "          quickchartButtonEl.classList.add('colab-df-quickchart-complete');\n",
              "        }\n",
              "        (() => {\n",
              "          let quickchartButtonEl =\n",
              "            document.querySelector('#df-c9026526-a610-4b81-bbde-b6c1f0106433 button');\n",
              "          quickchartButtonEl.style.display =\n",
              "            google.colab.kernel.accessAllowed ? 'block' : 'none';\n",
              "        })();\n",
              "      </script>\n",
              "    </div>\n",
              "\n",
              "    </div>\n",
              "  </div>\n"
            ],
            "application/vnd.google.colaboratory.intrinsic+json": {
              "type": "dataframe",
              "variable_name": "train_data",
              "summary": "{\n  \"name\": \"train_data\",\n  \"rows\": 500,\n  \"fields\": [\n    {\n      \"column\": \"tweet_id\",\n      \"properties\": {\n        \"dtype\": \"number\",\n        \"std\": 144,\n        \"min\": 1,\n        \"max\": 500,\n        \"num_unique_values\": 500,\n        \"samples\": [\n          362,\n          74,\n          375\n        ],\n        \"semantic_type\": \"\",\n        \"description\": \"\"\n      }\n    },\n    {\n      \"column\": \"user_handle\",\n      \"properties\": {\n        \"dtype\": \"string\",\n        \"num_unique_values\": 437,\n        \"samples\": [\n          \"@user1061\",\n          \"@user666\",\n          \"@indieChoice7\"\n        ],\n        \"semantic_type\": \"\",\n        \"description\": \"\"\n      }\n    },\n    {\n      \"column\": \"timestamp\",\n      \"properties\": {\n        \"dtype\": \"object\",\n        \"num_unique_values\": 500,\n        \"samples\": [\n          \"2024-01-14 09:30:20\",\n          \"2024-11-17 11:50:35\",\n          \"2024-01-16 12:50:50\"\n        ],\n        \"semantic_type\": \"\",\n        \"description\": \"\"\n      }\n    },\n    {\n      \"column\": \"tweet_text\",\n      \"properties\": {\n        \"dtype\": \"category\",\n        \"num_unique_values\": 197,\n        \"samples\": [\n          \"Jill Stein's policies aim to create sustainable urban environments.\",\n          \"Kamala Harris's climate initiatives are setting new standards.\",\n          \"Trump's deregulation efforts are boosting the stock market.\"\n        ],\n        \"semantic_type\": \"\",\n        \"description\": \"\"\n      }\n    },\n    {\n      \"column\": \"candidate\",\n      \"properties\": {\n        \"dtype\": \"category\",\n        \"num_unique_values\": 5,\n        \"samples\": [\n          \"Donald Trump\",\n          \"Chase Oliver\",\n          \"Jill Stein\"\n        ],\n        \"semantic_type\": \"\",\n        \"description\": \"\"\n      }\n    },\n    {\n      \"column\": \"party\",\n      \"properties\": {\n        \"dtype\": \"category\",\n        \"num_unique_values\": 5,\n        \"samples\": [\n          \"Republican Party\",\n          \"Libertarian Party\",\n          \"Green Party\"\n        ],\n        \"semantic_type\": \"\",\n        \"description\": \"\"\n      }\n    },\n    {\n      \"column\": \"retweets\",\n      \"properties\": {\n        \"dtype\": \"number\",\n        \"std\": 27,\n        \"min\": 18,\n        \"max\": 120,\n        \"num_unique_values\": 24,\n        \"samples\": [\n          25,\n          55,\n          120\n        ],\n        \"semantic_type\": \"\",\n        \"description\": \"\"\n      }\n    },\n    {\n      \"column\": \"likes\",\n      \"properties\": {\n        \"dtype\": \"number\",\n        \"std\": 120,\n        \"min\": 85,\n        \"max\": 500,\n        \"num_unique_values\": 44,\n        \"samples\": [\n          460,\n          480,\n          230\n        ],\n        \"semantic_type\": \"\",\n        \"description\": \"\"\n      }\n    },\n    {\n      \"column\": \"sentiment\",\n      \"properties\": {\n        \"dtype\": \"category\",\n        \"num_unique_values\": 4,\n        \"samples\": [\n          \"neutral\",\n          \"positive  \",\n          \"positive\"\n        ],\n        \"semantic_type\": \"\",\n        \"description\": \"\"\n      }\n    }\n  ]\n}"
            }
          },
          "metadata": {},
          "execution_count": 2
        }
      ],
      "source": [
        "url = 'https://raw.githubusercontent.com/nilsabermudez/Data620/refs/heads/main/week6/train.csv'\n",
        "train_data = pd.read_csv(url)\n",
        "train_data.head(5)"
      ]
    },
    {
      "cell_type": "markdown",
      "metadata": {
        "id": "R-UK7NPUH9PB"
      },
      "source": [
        "# Data Cleaning"
      ]
    },
    {
      "cell_type": "code",
      "execution_count": 3,
      "metadata": {
        "colab": {
          "base_uri": "https://localhost:8080/"
        },
        "id": "sfV6Vo40H9Pn",
        "outputId": "c2eab44d-c6b0-47e6-893e-6e2fc1bc4968"
      },
      "outputs": [
        {
          "output_type": "stream",
          "name": "stdout",
          "text": [
            "Number of distinct sentiment values: 4\n",
            "Distinct sentiment values: ['positive' 'neutral' 'negative' 'positive  ']\n"
          ]
        }
      ],
      "source": [
        "\n",
        "# Load data\n",
        "url = 'https://raw.githubusercontent.com/nilsabermudez/Data620/refs/heads/main/week6/train.csv'\n",
        "train_data = pd.read_csv(url)\n",
        "\n",
        "# Print number of distinct values in the sentiment column\n",
        "num_distinct_sentiments = train_data['sentiment'].nunique()\n",
        "print(\"Number of distinct sentiment values:\", num_distinct_sentiments)\n",
        "\n",
        "# Print the distinct sentiment values\n",
        "distinct_sentiments = train_data['sentiment'].unique()\n",
        "print(\"Distinct sentiment values:\", distinct_sentiments)"
      ]
    },
    {
      "cell_type": "markdown",
      "metadata": {
        "id": "ETY8ShPnH9Pu"
      },
      "source": [
        "#### Some data needs to be corrected"
      ]
    },
    {
      "cell_type": "code",
      "execution_count": 4,
      "metadata": {
        "colab": {
          "base_uri": "https://localhost:8080/"
        },
        "id": "wOSw1OzYH9P1",
        "outputId": "7d2314de-b67d-4d8c-811f-a03c4e9dcbf7"
      },
      "outputs": [
        {
          "output_type": "stream",
          "name": "stdout",
          "text": [
            "Number of distinct sentiment values after cleaning: 3\n",
            "Distinct sentiment values after cleaning: ['positive' 'neutral' 'negative']\n"
          ]
        }
      ],
      "source": [
        "# Clean the sentiment column in-memory\n",
        "train_data['sentiment'] = train_data['sentiment'].str.strip()\n",
        "\n",
        "# Print number of distinct values in the sentiment column after cleaning\n",
        "num_distinct_sentiments = train_data['sentiment'].nunique()\n",
        "print(\"Number of distinct sentiment values after cleaning:\", num_distinct_sentiments)\n",
        "\n",
        "# Print the distinct sentiment values after cleaning\n",
        "distinct_sentiments = train_data['sentiment'].unique()\n",
        "print(\"Distinct sentiment values after cleaning:\", distinct_sentiments)"
      ]
    },
    {
      "cell_type": "markdown",
      "metadata": {
        "id": "meZhsFnvH9QY"
      },
      "source": [
        "## Cleaning data for validation and test datasets"
      ]
    },
    {
      "cell_type": "code",
      "execution_count": 5,
      "metadata": {
        "id": "1g2FvwVMH9Qb",
        "colab": {
          "base_uri": "https://localhost:8080/"
        },
        "outputId": "f9e14b9c-d5f6-487c-ba0f-be406456736e"
      },
      "outputs": [
        {
          "output_type": "stream",
          "name": "stdout",
          "text": [
            "Number of distinct sentiment values after cleaning: 3\n",
            "Distinct sentiment values after cleaning: ['positive' 'neutral' 'negative']\n"
          ]
        }
      ],
      "source": [
        "# Load data\n",
        "url =\"https://raw.githubusercontent.com/nilsabermudez/Data620/refs/heads/main/week6/val.csv\"\n",
        "val_data = pd.read_csv(url)\n",
        "# Clean the sentiment column in-memory\n",
        "val_data['sentiment'] = val_data['sentiment'].str.strip()\n",
        "\n",
        "# Print number of distinct values in the sentiment column after cleaning\n",
        "num_distinct_sentiments = val_data['sentiment'].nunique()\n",
        "print(\"Number of distinct sentiment values after cleaning:\", num_distinct_sentiments)\n",
        "\n",
        "# Print the distinct sentiment values after cleaning\n",
        "distinct_sentiments = val_data['sentiment'].unique()\n",
        "print(\"Distinct sentiment values after cleaning:\", distinct_sentiments)"
      ]
    },
    {
      "cell_type": "code",
      "execution_count": 6,
      "metadata": {
        "id": "XHwRv0agH9Qc",
        "colab": {
          "base_uri": "https://localhost:8080/"
        },
        "outputId": "d436be0e-ba8e-46b6-ec9b-81598bcd8b88"
      },
      "outputs": [
        {
          "output_type": "stream",
          "name": "stdout",
          "text": [
            "Number of distinct sentiment values after cleaning: 3\n",
            "Distinct sentiment values after cleaning: ['positive' 'neutral' 'negative']\n"
          ]
        }
      ],
      "source": [
        "# Load data\n",
        "url =\"https://raw.githubusercontent.com/nilsabermudez/Data620/refs/heads/main/week6/test.csv\"\n",
        "test_data = pd.read_csv(url)\n",
        "# Clean the sentiment column in-memory\n",
        "test_data['sentiment'] = test_data['sentiment'].str.strip()\n",
        "\n",
        "# Print number of distinct values in the sentiment column after cleaning\n",
        "num_distinct_sentiments = test_data['sentiment'].nunique()\n",
        "print(\"Number of distinct sentiment values after cleaning:\", num_distinct_sentiments)\n",
        "\n",
        "# Print the distinct sentiment values after cleaning\n",
        "distinct_sentiments = test_data['sentiment'].unique()\n",
        "print(\"Distinct sentiment values after cleaning:\", distinct_sentiments)"
      ]
    },
    {
      "cell_type": "markdown",
      "metadata": {
        "id": "Lq0HLTVJH9Qe"
      },
      "source": [
        "# Data Analysis"
      ]
    },
    {
      "cell_type": "markdown",
      "metadata": {
        "id": "jDL_7AvuH9Qe"
      },
      "source": [
        "### Retweets vs Sentiment\n",
        "\n",
        "To understand the relationship between the number of retweets and the sentiment of the tweets, we plotted a scatter plot with the number of retweets on the x-axis and the sentiment on the y-axis.\n"
      ]
    },
    {
      "cell_type": "code",
      "execution_count": 7,
      "metadata": {
        "id": "t8tuGsqtH9Qf",
        "colab": {
          "base_uri": "https://localhost:8080/",
          "height": 564
        },
        "outputId": "2a33f7db-26bb-4861-c137-4c7ef7a9ad86"
      },
      "outputs": [
        {
          "output_type": "display_data",
          "data": {
            "text/plain": [
              "<Figure size 1200x600 with 1 Axes>"
            ],
            "image/png": "[encoded data removed]"
          },
          "metadata": {}
        }
      ],
      "source": [
        "# Encode sentiment\n",
        "sentiment_mapping = {'positive': 1, 'neutral': 2, 'negative': 3}\n",
        "train_data['sentiment_encoded'] = train_data['sentiment'].map(sentiment_mapping)\n",
        "\n",
        "# Plot Retweets vs Sentiment\n",
        "plt.figure(figsize=(12, 6))\n",
        "plt.scatter(train_data['retweets'], train_data['sentiment_encoded'], alpha=0.5)\n",
        "plt.title('Retweets vs Sentiment')\n",
        "plt.xlabel('Number of Retweets')\n",
        "plt.ylabel('Sentiment')\n",
        "plt.yticks([1, 2, 3], ['Positive', 'Neutral', 'Negative'])\n",
        "plt.grid(True)\n",
        "plt.show()"
      ]
    },
    {
      "cell_type": "markdown",
      "metadata": {
        "id": "mc5vXJYoH9Qg"
      },
      "source": [
        "### Likes vs Sentiment\n",
        "Similarly, we plotted a scatter plot with the number of likes on the x-axis and the sentiment on the y-axis to understand the relationship between the number of likes and the sentiment of the tweets."
      ]
    },
    {
      "cell_type": "code",
      "execution_count": 8,
      "metadata": {
        "id": "Zl5Pe1GPH9Qh",
        "colab": {
          "base_uri": "https://localhost:8080/",
          "height": 564
        },
        "outputId": "be7db4cb-7d85-43e4-8538-f082d839a226"
      },
      "outputs": [
        {
          "output_type": "display_data",
          "data": {
            "text/plain": [
              "<Figure size 1200x600 with 1 Axes>"
            ],
            "image/png": "[encoded data removed]"
          },
          "metadata": {}
        }
      ],
      "source": [
        "# Encode sentiment\n",
        "sentiment_mapping = {'positive': 1, 'neutral': 2, 'negative': 3}\n",
        "train_data['sentiment_encoded'] = train_data['sentiment'].map(sentiment_mapping)\n",
        "\n",
        "# Plot Likes vs Sentiment\n",
        "plt.figure(figsize=(12, 6))\n",
        "plt.scatter(train_data['likes'], train_data['sentiment_encoded'], alpha=0.5)\n",
        "plt.title('Likes vs Sentiment')\n",
        "plt.xlabel('Number of Likes')\n",
        "plt.ylabel('Sentiment')\n",
        "plt.yticks([1, 2, 3], ['Positive', 'Neutral', 'Negative'])\n",
        "plt.grid(True)\n",
        "plt.show()"
      ]
    },
    {
      "cell_type": "markdown",
      "metadata": {
        "id": "sSIfJrENH9Qi"
      },
      "source": [
        "### Observations\n",
        "\n",
        "From the above plots, we can observe the following patterns:\n",
        "\n",
        "**Retweets vs Sentiment**:\n",
        "- For a lower number of retweets, the sentiment is mostly neutral.\n",
        "- For a middle range of retweets, the sentiment tends to be positive.\n",
        "- For a higher number of retweets, the sentiment is often negative.\n",
        "\n",
        "**Likes vs Sentiment**:\n",
        "- For a lower number of likes, the sentiment is mostly neutral.\n",
        "- For a middle range of likes, the sentiment tends to be positive.\n",
        "- For a higher number of likes, the sentiment is often negative.\n",
        "\n",
        "These observations suggest that the number of retweets and likes can be indicative of the sentiment of the tweets. Tweets with a moderate number of retweets and likes are generally positive, while those with very high or very low engagement tend to be neutral or negative. This insight can be leveraged to improve our sentiment prediction model by incorporating retweets and likes as additional features."
      ]
    },
    {
      "cell_type": "code",
      "execution_count": 9,
      "metadata": {
        "id": "yhJBW2CUH9Qk",
        "colab": {
          "base_uri": "https://localhost:8080/",
          "height": 715
        },
        "outputId": "a7aa83db-d223-4dcc-da16-ac3051f2a551"
      },
      "outputs": [
        {
          "output_type": "display_data",
          "data": {
            "text/plain": [
              "<Figure size 1400x700 with 1 Axes>"
            ],
            "image/png": "[encoded data removed]"
          },
          "metadata": {}
        }
      ],
      "source": [
        "\n",
        "# Plot Candidate vs Sentiment\n",
        "plt.figure(figsize=(14, 7))\n",
        "sns.countplot(x='candidate', hue='sentiment', data=train_data)\n",
        "plt.title('Sentiment Distribution per Candidate')\n",
        "plt.xlabel('Candidate')\n",
        "plt.ylabel('Number of Tweets')\n",
        "plt.xticks(rotation=45)\n",
        "plt.legend(title='Sentiment')\n",
        "plt.show()"
      ]
    },
    {
      "cell_type": "markdown",
      "metadata": {
        "id": "fWJxGiQ3H9Ql"
      },
      "source": [
        "\n",
        "### Bias Consideration\n",
        "\n",
        "To ensure that the model is not biased towards any particular candidate, the above data (retweets and likes) will not be used in the final model. This decision is made to maintain the fairness and impartiality of the sentiment analysis, focusing solely on the content of the tweets rather than their engagement metrics."
      ]
    },
    {
      "cell_type": "markdown",
      "metadata": {
        "id": "4Uq4j3dZH9Qm"
      },
      "source": [
        "# Data preparation"
      ]
    },
    {
      "cell_type": "markdown",
      "metadata": {
        "id": "pbCARaL6H9Qm"
      },
      "source": [
        "\n",
        "### Feature Selection\n",
        "\n",
        "From the above analysis, we have decided to use only the following features for our sentiment prediction model:\n",
        "- `tweet_text`: The content of the tweet.\n",
        "- `retweets`: The number of retweets.\n",
        "- `likes`: The number of likes.\n",
        "\n",
        "These features will be used to train the model to predict the sentiment of the tweets."
      ]
    },
    {
      "cell_type": "code",
      "execution_count": 10,
      "metadata": {
        "id": "kqVcBF6XH9Qn",
        "colab": {
          "base_uri": "https://localhost:8080/"
        },
        "outputId": "bb0730e8-9d8b-4bf4-b581-e6c5bb86a0a2"
      },
      "outputs": [
        {
          "output_type": "stream",
          "name": "stdout",
          "text": [
            "                                          tweet_text  \\\n",
            "0  Excited to see Kamala Harris leading the Democ...   \n",
            "1  Donald Trump's policies are the best for our e...   \n",
            "2  Jill Stein's environmental plans are exactly w...   \n",
            "3  Robert Kennedy offers a fresh perspective outs...   \n",
            "4  Chase Oliver's libertarian stance promotes tru...   \n",
            "\n",
            "                                     input_sequences sentiment  \\\n",
            "0  [343, 4, 344, 5, 15, 45, 10, 345, 199, 0, 0, 0...  positive   \n",
            "1  [239, 6, 12, 3, 10, 346, 11, 286, 240, 0, 0, 0...  positive   \n",
            "2  [7, 16, 181, 39, 3, 347, 348, 349, 182, 0, 0, ...  positive   \n",
            "3  [8, 14, 57, 13, 217, 200, 66, 10, 350, 95, 351...   neutral   \n",
            "4  [9, 20, 89, 30, 71, 352, 183, 0, 0, 0, 0, 0, 0...  positive   \n",
            "\n",
            "   sentiment_label  \n",
            "0  [0.0, 0.0, 1.0]  \n",
            "1  [0.0, 0.0, 1.0]  \n",
            "2  [0.0, 0.0, 1.0]  \n",
            "3  [0.0, 1.0, 0.0]  \n",
            "4  [0.0, 0.0, 1.0]  \n",
            "                                          tweet_text  \\\n",
            "0  Kamala Harris's new policy on education reform...   \n",
            "1  Donald Trump's latest speech on the economy wa...   \n",
            "2  Jill Stein's environmental policies are a step...   \n",
            "3  Robert Kennedy's independent run brings fresh ...   \n",
            "4  Chase Oliver's stance on gun rights is unwaver...   \n",
            "\n",
            "                                     input_sequences sentiment  \\\n",
            "0  [5, 22, 19, 38, 18, 49, 145, 2, 278, 0, 0, 0, ...  positive   \n",
            "1  [239, 6, 34, 86, 18, 10, 240, 279, 280, 281, 0...  positive   \n",
            "2  [7, 16, 181, 12, 3, 13, 282, 24, 10, 223, 283,...  positive   \n",
            "3  [8, 26, 36, 203, 206, 217, 116, 4, 10, 229, 0,...   neutral   \n",
            "4  [9, 20, 30, 18, 160, 54, 2, 284, 0, 0, 0, 0, 0...  positive   \n",
            "\n",
            "   sentiment_label  \n",
            "0  [0.0, 0.0, 1.0]  \n",
            "1  [0.0, 0.0, 1.0]  \n",
            "2  [0.0, 0.0, 1.0]  \n",
            "3  [0.0, 1.0, 0.0]  \n",
            "4  [0.0, 0.0, 1.0]  \n",
            "                                          tweet_text  \\\n",
            "0  Kamala Harris's new policy on education reform...   \n",
            "1  Donald Trump's latest speech on the economy wa...   \n",
            "2  Jill Stein's environmental policies are a step...   \n",
            "3  Robert Kennedy's independent run brings fresh ...   \n",
            "4  Chase Oliver's stance on gun rights is unwaver...   \n",
            "\n",
            "                                     input_sequences sentiment  \\\n",
            "0  [5, 22, 19, 38, 18, 49, 145, 2, 278, 0, 0, 0, ...  positive   \n",
            "1  [239, 6, 34, 86, 18, 10, 240, 279, 280, 281, 0...  positive   \n",
            "2  [7, 16, 181, 12, 3, 13, 282, 24, 10, 223, 283,...  positive   \n",
            "3  [8, 26, 36, 203, 206, 217, 116, 4, 10, 229, 0,...   neutral   \n",
            "4  [9, 20, 30, 18, 160, 54, 2, 284, 0, 0, 0, 0, 0...  positive   \n",
            "\n",
            "   sentiment_label  \n",
            "0  [0.0, 0.0, 1.0]  \n",
            "1  [0.0, 0.0, 1.0]  \n",
            "2  [0.0, 0.0, 1.0]  \n",
            "3  [0.0, 1.0, 0.0]  \n",
            "4  [0.0, 0.0, 1.0]  \n"
          ]
        }
      ],
      "source": [
        "# Clean the sentiment column in-memory\n",
        "train_data['sentiment'] = train_data['sentiment'].str.strip()\n",
        "val_data['sentiment'] = val_data['sentiment'].str.strip()\n",
        "test_data['sentiment'] = test_data['sentiment'].str.strip()\n",
        "\n",
        "# Combine tweet texts for tokenizer fitting\n",
        "combined_text = pd.concat([train_data['tweet_text'], val_data['tweet_text'], test_data['tweet_text']])\n",
        "\n",
        "# Initialize tokenizer class\n",
        "tokenizer = Tokenizer(oov_token=\"<oov>\")\n",
        "\n",
        "# Generate word index dictionary\n",
        "tokenizer.fit_on_texts(combined_text)\n",
        "word_index = tokenizer.word_index\n",
        "\n",
        "# Generate sequences for each dataset\n",
        "train_sequences = tokenizer.texts_to_sequences(train_data['tweet_text'])\n",
        "val_sequences = tokenizer.texts_to_sequences(val_data['tweet_text'])\n",
        "test_sequences = tokenizer.texts_to_sequences(test_data['tweet_text'])\n",
        "\n",
        "# Define maximum length for padding\n",
        "max_length = 50  # Example maximum length\n",
        "\n",
        "# Pad sequences to ensure uniform length\n",
        "train_padded_sequences = pad_sequences(train_sequences, maxlen=max_length, padding='post')\n",
        "val_padded_sequences = pad_sequences(val_sequences, maxlen=max_length, padding='post')\n",
        "test_padded_sequences = pad_sequences(test_sequences, maxlen=max_length, padding='post')\n",
        "\n",
        "# Add the padded sequences to the respective DataFrames\n",
        "train_data['input_sequences'] = list(train_padded_sequences)\n",
        "val_data['input_sequences'] = list(val_padded_sequences)\n",
        "test_data['input_sequences'] = list(test_padded_sequences)\n",
        "\n",
        "# Encode sentiment labels for each dataset\n",
        "label_encoder = LabelEncoder()\n",
        "train_integer_encoded = label_encoder.fit_transform(train_data['sentiment'])\n",
        "val_integer_encoded = label_encoder.transform(val_data['sentiment'])\n",
        "test_integer_encoded = label_encoder.transform(test_data['sentiment'])\n",
        "\n",
        "# One-hot encode the integer encoded labels\n",
        "onehot_encoder = OneHotEncoder(sparse_output=False)\n",
        "#onehot_encoder = OneHotEncoder(sparse=False)\n",
        "train_integer_encoded = train_integer_encoded.reshape(len(train_integer_encoded), 1)\n",
        "val_integer_encoded = val_integer_encoded.reshape(len(val_integer_encoded), 1)\n",
        "test_integer_encoded = test_integer_encoded.reshape(len(test_integer_encoded), 1)\n",
        "\n",
        "train_onehot_encoded = onehot_encoder.fit_transform(train_integer_encoded)\n",
        "val_onehot_encoded = onehot_encoder.transform(val_integer_encoded)\n",
        "test_onehot_encoded = onehot_encoder.transform(test_integer_encoded)\n",
        "\n",
        "# Add one-hot encoded vectors as a single column to the DataFrames\n",
        "train_data['sentiment_label'] = list(train_onehot_encoded)\n",
        "val_data['sentiment_label'] = list(val_onehot_encoded)\n",
        "test_data['sentiment_label'] = list(test_onehot_encoded)\n",
        "\n",
        "# Display the first few rows to verify\n",
        "print(train_data[['tweet_text', 'input_sequences', 'sentiment', 'sentiment_label']].head())\n",
        "print(val_data[['tweet_text', 'input_sequences', 'sentiment', 'sentiment_label']].head())\n",
        "print(test_data[['tweet_text', 'input_sequences', 'sentiment', 'sentiment_label']].head())"
      ]
    },
    {
      "cell_type": "markdown",
      "metadata": {
        "id": "i6PitNaoH9RL"
      },
      "source": [
        "### Preparing Validation and test data"
      ]
    },
    {
      "cell_type": "code",
      "execution_count": 11,
      "metadata": {
        "id": "TDbJhC4mH9RM"
      },
      "outputs": [],
      "source": [
        "\n",
        "train_input = np.array(train_padded_sequences)\n",
        "val_input = np.array(val_padded_sequences)\n",
        "test_input = np.array(test_padded_sequences)\n",
        "\n",
        "train_label = np.array(train_onehot_encoded)\n",
        "val_label = np.array(val_onehot_encoded)\n",
        "test_label = np.array(test_onehot_encoded)\n"
      ]
    },
    {
      "cell_type": "markdown",
      "metadata": {
        "id": "Fp7BxUyNH9RN"
      },
      "source": [
        "# Creating a model"
      ]
    },
    {
      "cell_type": "markdown",
      "metadata": {
        "id": "fvYta55tH9RO"
      },
      "source": [
        "## Model 1: LSTM-based Sentiment Analysis Model\n",
        "\n",
        "### Model Architecture\n",
        "\n",
        "The first model is an LSTM-based neural network designed to capture the temporal dependencies in tweet text. The architecture includes:\n",
        "\n",
        "- **Embedding Layer**: Converts words into dense vectors.\n",
        "- **LSTM Layers**: Two LSTM layers to capture sequential dependencies.\n",
        "- **Dropout Layers**: Prevent overfitting by randomly setting input units to 0.\n",
        "- **Dense Layers**: Fully connected layers for classification.\n"
      ]
    },
    {
      "cell_type": "code",
      "execution_count": 12,
      "metadata": {
        "id": "-DKKkv1fH9RP",
        "colab": {
          "base_uri": "https://localhost:8080/"
        },
        "outputId": "e09c0a54-5f5f-4d5e-9bcb-70e1115d0cec"
      },
      "outputs": [
        {
          "output_type": "stream",
          "name": "stderr",
          "text": [
            "/usr/local/lib/python3.11/dist-packages/keras/src/layers/core/embedding.py:90: UserWarning: Argument `input_length` is deprecated. Just remove it.\n",
            "  warnings.warn(\n"
          ]
        }
      ],
      "source": [
        "# Let's define the model\n",
        "vocab_size = len(word_index) + 1  # Vocabulary size\n",
        "embedding_dim = 100  # Embedding dimensions\n",
        "lstm_units = 128  # Number of LSTM units\n",
        "\n",
        "model = tf.keras.Sequential([\n",
        "    tf.keras.layers.Embedding(input_dim=vocab_size, output_dim=embedding_dim, input_length=max_length),\n",
        "    tf.keras.layers.LSTM(units=lstm_units, return_sequences=True),\n",
        "    tf.keras.layers.Dropout(0.2),\n",
        "    tf.keras.layers.LSTM(units=lstm_units),\n",
        "    tf.keras.layers.Dropout(0.2),\n",
        "    tf.keras.layers.Dense(units=64, activation='relu'),\n",
        "    tf.keras.layers.Dense(units=3, activation='softmax')  # Output layer with 3 nodes for 3 classes\n",
        "])\n",
        "\n",
        "# Compile the model\n",
        "model.compile(optimizer='adam', loss='categorical_crossentropy', metrics=['accuracy'])\n"
      ]
    },
    {
      "cell_type": "code",
      "execution_count": 13,
      "metadata": {
        "id": "0YiSI7i6H9RR",
        "colab": {
          "base_uri": "https://localhost:8080/"
        },
        "outputId": "a094d3e6-2b22-4a4e-93b2-706387dea97f"
      },
      "outputs": [
        {
          "output_type": "stream",
          "name": "stdout",
          "text": [
            "Epoch 1/64\n",
            "\u001b[1m16/16\u001b[0m \u001b[32m━━━━━━━━━━━━━━━━━━━━\u001b[0m\u001b[37m\u001b[0m \u001b[1m5s\u001b[0m 128ms/step - accuracy: 0.5304 - loss: 0.9749 - val_accuracy: 0.6800 - val_loss: 0.7994\n",
            "Epoch 2/64\n",
            "\u001b[1m16/16\u001b[0m \u001b[32m━━━━━━━━━━━━━━━━━━━━\u001b[0m\u001b[37m\u001b[0m \u001b[1m2s\u001b[0m 104ms/step - accuracy: 0.6660 - loss: 0.8538 - val_accuracy: 0.6800 - val_loss: 0.7937\n",
            "Epoch 3/64\n",
            "\u001b[1m16/16\u001b[0m \u001b[32m━━━━━━━━━━━━━━━━━━━━\u001b[0m\u001b[37m\u001b[0m \u001b[1m3s\u001b[0m 107ms/step - accuracy: 0.6419 - loss: 0.8463 - val_accuracy: 0.6800 - val_loss: 0.7932\n",
            "Epoch 4/64\n",
            "\u001b[1m16/16\u001b[0m \u001b[32m━━━━━━━━━━━━━━━━━━━━\u001b[0m\u001b[37m\u001b[0m \u001b[1m2s\u001b[0m 116ms/step - accuracy: 0.6245 - loss: 0.9016 - val_accuracy: 0.6800 - val_loss: 0.7913\n",
            "Epoch 5/64\n",
            "\u001b[1m16/16\u001b[0m \u001b[32m━━━━━━━━━━━━━━━━━━━━\u001b[0m\u001b[37m\u001b[0m \u001b[1m2s\u001b[0m 104ms/step - accuracy: 0.6498 - loss: 0.8702 - val_accuracy: 0.6800 - val_loss: 0.7894\n",
            "Epoch 6/64\n",
            "\u001b[1m16/16\u001b[0m \u001b[32m━━━━━━━━━━━━━━━━━━━━\u001b[0m\u001b[37m\u001b[0m \u001b[1m3s\u001b[0m 107ms/step - accuracy: 0.6336 - loss: 0.8609 - val_accuracy: 0.6800 - val_loss: 0.7888\n",
            "Epoch 7/64\n",
            "\u001b[1m16/16\u001b[0m \u001b[32m━━━━━━━━━━━━━━━━━━━━\u001b[0m\u001b[37m\u001b[0m \u001b[1m2s\u001b[0m 105ms/step - accuracy: 0.6528 - loss: 0.8461 - val_accuracy: 0.6800 - val_loss: 0.7898\n",
            "Epoch 8/64\n",
            "\u001b[1m16/16\u001b[0m \u001b[32m━━━━━━━━━━━━━━━━━━━━\u001b[0m\u001b[37m\u001b[0m \u001b[1m3s\u001b[0m 106ms/step - accuracy: 0.6622 - loss: 0.8313 - val_accuracy: 0.6800 - val_loss: 0.7865\n",
            "Epoch 9/64\n",
            "\u001b[1m16/16\u001b[0m \u001b[32m━━━━━━━━━━━━━━━━━━━━\u001b[0m\u001b[37m\u001b[0m \u001b[1m3s\u001b[0m 148ms/step - accuracy: 0.6308 - loss: 0.8851 - val_accuracy: 0.6800 - val_loss: 0.7875\n",
            "Epoch 10/64\n",
            "\u001b[1m16/16\u001b[0m \u001b[32m━━━━━━━━━━━━━━━━━━━━\u001b[0m\u001b[37m\u001b[0m \u001b[1m2s\u001b[0m 105ms/step - accuracy: 0.6558 - loss: 0.8641 - val_accuracy: 0.6800 - val_loss: 0.7940\n",
            "Epoch 11/64\n",
            "\u001b[1m16/16\u001b[0m \u001b[32m━━━━━━━━━━━━━━━━━━━━\u001b[0m\u001b[37m\u001b[0m \u001b[1m2s\u001b[0m 105ms/step - accuracy: 0.6656 - loss: 0.8495 - val_accuracy: 0.6800 - val_loss: 0.7882\n",
            "Epoch 12/64\n",
            "\u001b[1m16/16\u001b[0m \u001b[32m━━━━━━━━━━━━━━━━━━━━\u001b[0m\u001b[37m\u001b[0m \u001b[1m3s\u001b[0m 107ms/step - accuracy: 0.6459 - loss: 0.8694 - val_accuracy: 0.6800 - val_loss: 0.7857\n",
            "Epoch 13/64\n",
            "\u001b[1m16/16\u001b[0m \u001b[32m━━━━━━━━━━━━━━━━━━━━\u001b[0m\u001b[37m\u001b[0m \u001b[1m2s\u001b[0m 105ms/step - accuracy: 0.6789 - loss: 0.8153 - val_accuracy: 0.6800 - val_loss: 0.7880\n",
            "Epoch 14/64\n",
            "\u001b[1m16/16\u001b[0m \u001b[32m━━━━━━━━━━━━━━━━━━━━\u001b[0m\u001b[37m\u001b[0m \u001b[1m3s\u001b[0m 135ms/step - accuracy: 0.6268 - loss: 0.8876 - val_accuracy: 0.6800 - val_loss: 0.7873\n",
            "Epoch 15/64\n",
            "\u001b[1m16/16\u001b[0m \u001b[32m━━━━━━━━━━━━━━━━━━━━\u001b[0m\u001b[37m\u001b[0m \u001b[1m2s\u001b[0m 109ms/step - accuracy: 0.6613 - loss: 0.8392 - val_accuracy: 0.6800 - val_loss: 0.7880\n",
            "Epoch 16/64\n",
            "\u001b[1m16/16\u001b[0m \u001b[32m━━━━━━━━━━━━━━━━━━━━\u001b[0m\u001b[37m\u001b[0m \u001b[1m2s\u001b[0m 106ms/step - accuracy: 0.6492 - loss: 0.8382 - val_accuracy: 0.6800 - val_loss: 0.7860\n",
            "Epoch 17/64\n",
            "\u001b[1m16/16\u001b[0m \u001b[32m━━━━━━━━━━━━━━━━━━━━\u001b[0m\u001b[37m\u001b[0m \u001b[1m3s\u001b[0m 105ms/step - accuracy: 0.6825 - loss: 0.8244 - val_accuracy: 0.6800 - val_loss: 0.7942\n",
            "Epoch 18/64\n",
            "\u001b[1m16/16\u001b[0m \u001b[32m━━━━━━━━━━━━━━━━━━━━\u001b[0m\u001b[37m\u001b[0m \u001b[1m2s\u001b[0m 106ms/step - accuracy: 0.6782 - loss: 0.8344 - val_accuracy: 0.6800 - val_loss: 0.7862\n",
            "Epoch 19/64\n",
            "\u001b[1m16/16\u001b[0m \u001b[32m━━━━━━━━━━━━━━━━━━━━\u001b[0m\u001b[37m\u001b[0m \u001b[1m2s\u001b[0m 104ms/step - accuracy: 0.6344 - loss: 0.8657 - val_accuracy: 0.6800 - val_loss: 0.7837\n",
            "Epoch 20/64\n",
            "\u001b[1m16/16\u001b[0m \u001b[32m━━━━━━━━━━━━━━━━━━━━\u001b[0m\u001b[37m\u001b[0m \u001b[1m3s\u001b[0m 139ms/step - accuracy: 0.6713 - loss: 0.8322 - val_accuracy: 0.6800 - val_loss: 0.7922\n",
            "Epoch 21/64\n",
            "\u001b[1m16/16\u001b[0m \u001b[32m━━━━━━━━━━━━━━━━━━━━\u001b[0m\u001b[37m\u001b[0m \u001b[1m2s\u001b[0m 105ms/step - accuracy: 0.6741 - loss: 0.8254 - val_accuracy: 0.6800 - val_loss: 0.7895\n",
            "Epoch 22/64\n",
            "\u001b[1m16/16\u001b[0m \u001b[32m━━━━━━━━━━━━━━━━━━━━\u001b[0m\u001b[37m\u001b[0m \u001b[1m3s\u001b[0m 107ms/step - accuracy: 0.6516 - loss: 0.8610 - val_accuracy: 0.6800 - val_loss: 0.7885\n",
            "Epoch 23/64\n",
            "\u001b[1m16/16\u001b[0m \u001b[32m━━━━━━━━━━━━━━━━━━━━\u001b[0m\u001b[37m\u001b[0m \u001b[1m3s\u001b[0m 107ms/step - accuracy: 0.6513 - loss: 0.8598 - val_accuracy: 0.6800 - val_loss: 0.7871\n",
            "Epoch 24/64\n",
            "\u001b[1m16/16\u001b[0m \u001b[32m━━━━━━━━━━━━━━━━━━━━\u001b[0m\u001b[37m\u001b[0m \u001b[1m2s\u001b[0m 107ms/step - accuracy: 0.6614 - loss: 0.8297 - val_accuracy: 0.6800 - val_loss: 0.7828\n",
            "Epoch 25/64\n",
            "\u001b[1m16/16\u001b[0m \u001b[32m━━━━━━━━━━━━━━━━━━━━\u001b[0m\u001b[37m\u001b[0m \u001b[1m3s\u001b[0m 118ms/step - accuracy: 0.7389 - loss: 0.7696 - val_accuracy: 0.8200 - val_loss: 0.4562\n",
            "Epoch 26/64\n",
            "\u001b[1m16/16\u001b[0m \u001b[32m━━━━━━━━━━━━━━━━━━━━\u001b[0m\u001b[37m\u001b[0m \u001b[1m2s\u001b[0m 104ms/step - accuracy: 0.8485 - loss: 0.4005 - val_accuracy: 0.8600 - val_loss: 0.4088\n",
            "Epoch 27/64\n",
            "\u001b[1m16/16\u001b[0m \u001b[32m━━━━━━━━━━━━━━━━━━━━\u001b[0m\u001b[37m\u001b[0m \u001b[1m2s\u001b[0m 105ms/step - accuracy: 0.8361 - loss: 0.3907 - val_accuracy: 0.8800 - val_loss: 0.3337\n",
            "Epoch 28/64\n",
            "\u001b[1m16/16\u001b[0m \u001b[32m━━━━━━━━━━━━━━━━━━━━\u001b[0m\u001b[37m\u001b[0m \u001b[1m2s\u001b[0m 109ms/step - accuracy: 0.8527 - loss: 0.3638 - val_accuracy: 0.8600 - val_loss: 0.3647\n",
            "Epoch 29/64\n",
            "\u001b[1m16/16\u001b[0m \u001b[32m━━━━━━━━━━━━━━━━━━━━\u001b[0m\u001b[37m\u001b[0m \u001b[1m2s\u001b[0m 105ms/step - accuracy: 0.8630 - loss: 0.3649 - val_accuracy: 0.8600 - val_loss: 0.3690\n",
            "Epoch 30/64\n",
            "\u001b[1m16/16\u001b[0m \u001b[32m━━━━━━━━━━━━━━━━━━━━\u001b[0m\u001b[37m\u001b[0m \u001b[1m3s\u001b[0m 132ms/step - accuracy: 0.8315 - loss: 0.3983 - val_accuracy: 0.8600 - val_loss: 0.3688\n",
            "Epoch 31/64\n",
            "\u001b[1m16/16\u001b[0m \u001b[32m━━━━━━━━━━━━━━━━━━━━\u001b[0m\u001b[37m\u001b[0m \u001b[1m2s\u001b[0m 103ms/step - accuracy: 0.8284 - loss: 0.4119 - val_accuracy: 0.8600 - val_loss: 0.3597\n",
            "Epoch 32/64\n",
            "\u001b[1m16/16\u001b[0m \u001b[32m━━━━━━━━━━━━━━━━━━━━\u001b[0m\u001b[37m\u001b[0m \u001b[1m3s\u001b[0m 127ms/step - accuracy: 0.8540 - loss: 0.3674 - val_accuracy: 0.8600 - val_loss: 0.3636\n",
            "Epoch 33/64\n",
            "\u001b[1m16/16\u001b[0m \u001b[32m━━━━━━━━━━━━━━━━━━━━\u001b[0m\u001b[37m\u001b[0m \u001b[1m2s\u001b[0m 104ms/step - accuracy: 0.8575 - loss: 0.3626 - val_accuracy: 0.8600 - val_loss: 0.3665\n",
            "Epoch 34/64\n",
            "\u001b[1m16/16\u001b[0m \u001b[32m━━━━━━━━━━━━━━━━━━━━\u001b[0m\u001b[37m\u001b[0m \u001b[1m2s\u001b[0m 105ms/step - accuracy: 0.8440 - loss: 0.3747 - val_accuracy: 0.8600 - val_loss: 0.3692\n",
            "Epoch 35/64\n",
            "\u001b[1m16/16\u001b[0m \u001b[32m━━━━━━━━━━━━━━━━━━━━\u001b[0m\u001b[37m\u001b[0m \u001b[1m2s\u001b[0m 105ms/step - accuracy: 0.8430 - loss: 0.3621 - val_accuracy: 0.8600 - val_loss: 0.3590\n",
            "Epoch 36/64\n",
            "\u001b[1m16/16\u001b[0m \u001b[32m━━━━━━━━━━━━━━━━━━━━\u001b[0m\u001b[37m\u001b[0m \u001b[1m2s\u001b[0m 145ms/step - accuracy: 0.8559 - loss: 0.3684 - val_accuracy: 0.8600 - val_loss: 0.3611\n",
            "Epoch 37/64\n",
            "\u001b[1m16/16\u001b[0m \u001b[32m━━━━━━━━━━━━━━━━━━━━\u001b[0m\u001b[37m\u001b[0m \u001b[1m2s\u001b[0m 105ms/step - accuracy: 0.8551 - loss: 0.3548 - val_accuracy: 0.8600 - val_loss: 0.3656\n",
            "Epoch 38/64\n",
            "\u001b[1m16/16\u001b[0m \u001b[32m━━━━━━━━━━━━━━━━━━━━\u001b[0m\u001b[37m\u001b[0m \u001b[1m3s\u001b[0m 106ms/step - accuracy: 0.8407 - loss: 0.3830 - val_accuracy: 0.8600 - val_loss: 0.3649\n",
            "Epoch 39/64\n",
            "\u001b[1m16/16\u001b[0m \u001b[32m━━━━━━━━━━━━━━━━━━━━\u001b[0m\u001b[37m\u001b[0m \u001b[1m2s\u001b[0m 109ms/step - accuracy: 0.8513 - loss: 0.3720 - val_accuracy: 0.8600 - val_loss: 0.3600\n",
            "Epoch 40/64\n",
            "\u001b[1m16/16\u001b[0m \u001b[32m━━━━━━━━━━━━━━━━━━━━\u001b[0m\u001b[37m\u001b[0m \u001b[1m2s\u001b[0m 107ms/step - accuracy: 0.8693 - loss: 0.3309 - val_accuracy: 0.8600 - val_loss: 0.3645\n",
            "Epoch 41/64\n",
            "\u001b[1m16/16\u001b[0m \u001b[32m━━━━━━━━━━━━━━━━━━━━\u001b[0m\u001b[37m\u001b[0m \u001b[1m3s\u001b[0m 145ms/step - accuracy: 0.8575 - loss: 0.3492 - val_accuracy: 0.8600 - val_loss: 0.3640\n",
            "Epoch 42/64\n",
            "\u001b[1m16/16\u001b[0m \u001b[32m━━━━━━━━━━━━━━━━━━━━\u001b[0m\u001b[37m\u001b[0m \u001b[1m2s\u001b[0m 106ms/step - accuracy: 0.8546 - loss: 0.3458 - val_accuracy: 0.8600 - val_loss: 0.3668\n",
            "Epoch 43/64\n",
            "\u001b[1m16/16\u001b[0m \u001b[32m━━━━━━━━━━━━━━━━━━━━\u001b[0m\u001b[37m\u001b[0m \u001b[1m2s\u001b[0m 142ms/step - accuracy: 0.8434 - loss: 0.3736 - val_accuracy: 0.8600 - val_loss: 0.3669\n",
            "Epoch 44/64\n",
            "\u001b[1m16/16\u001b[0m \u001b[32m━━━━━━━━━━━━━━━━━━━━\u001b[0m\u001b[37m\u001b[0m \u001b[1m3s\u001b[0m 209ms/step - accuracy: 0.8566 - loss: 0.3617 - val_accuracy: 0.8600 - val_loss: 0.3643\n",
            "Epoch 45/64\n",
            "\u001b[1m16/16\u001b[0m \u001b[32m━━━━━━━━━━━━━━━━━━━━\u001b[0m\u001b[37m\u001b[0m \u001b[1m4s\u001b[0m 237ms/step - accuracy: 0.8211 - loss: 0.4163 - val_accuracy: 0.8600 - val_loss: 0.3652\n",
            "Epoch 46/64\n",
            "\u001b[1m16/16\u001b[0m \u001b[32m━━━━━━━━━━━━━━━━━━━━\u001b[0m\u001b[37m\u001b[0m \u001b[1m3s\u001b[0m 107ms/step - accuracy: 0.8503 - loss: 0.3794 - val_accuracy: 0.8600 - val_loss: 0.3656\n",
            "Epoch 47/64\n",
            "\u001b[1m16/16\u001b[0m \u001b[32m━━━━━━━━━━━━━━━━━━━━\u001b[0m\u001b[37m\u001b[0m \u001b[1m2s\u001b[0m 103ms/step - accuracy: 0.8595 - loss: 0.3646 - val_accuracy: 0.8600 - val_loss: 0.3666\n",
            "Epoch 48/64\n",
            "\u001b[1m16/16\u001b[0m \u001b[32m━━━━━━━━━━━━━━━━━━━━\u001b[0m\u001b[37m\u001b[0m \u001b[1m2s\u001b[0m 103ms/step - accuracy: 0.8561 - loss: 0.3723 - val_accuracy: 0.8600 - val_loss: 0.3637\n",
            "Epoch 49/64\n",
            "\u001b[1m16/16\u001b[0m \u001b[32m━━━━━━━━━━━━━━━━━━━━\u001b[0m\u001b[37m\u001b[0m \u001b[1m2s\u001b[0m 104ms/step - accuracy: 0.8359 - loss: 0.3925 - val_accuracy: 0.8600 - val_loss: 0.3654\n",
            "Epoch 50/64\n",
            "\u001b[1m16/16\u001b[0m \u001b[32m━━━━━━━━━━━━━━━━━━━━\u001b[0m\u001b[37m\u001b[0m \u001b[1m3s\u001b[0m 120ms/step - accuracy: 0.8441 - loss: 0.3905 - val_accuracy: 0.8600 - val_loss: 0.3643\n",
            "Epoch 51/64\n",
            "\u001b[1m16/16\u001b[0m \u001b[32m━━━━━━━━━━━━━━━━━━━━\u001b[0m\u001b[37m\u001b[0m \u001b[1m2s\u001b[0m 124ms/step - accuracy: 0.8443 - loss: 0.3701 - val_accuracy: 0.8600 - val_loss: 0.3659\n",
            "Epoch 52/64\n",
            "\u001b[1m16/16\u001b[0m \u001b[32m━━━━━━━━━━━━━━━━━━━━\u001b[0m\u001b[37m\u001b[0m \u001b[1m2s\u001b[0m 108ms/step - accuracy: 0.8497 - loss: 0.3608 - val_accuracy: 0.8600 - val_loss: 0.3662\n",
            "Epoch 53/64\n",
            "\u001b[1m16/16\u001b[0m \u001b[32m━━━━━━━━━━━━━━━━━━━━\u001b[0m\u001b[37m\u001b[0m \u001b[1m2s\u001b[0m 104ms/step - accuracy: 0.8420 - loss: 0.3874 - val_accuracy: 0.8600 - val_loss: 0.3624\n",
            "Epoch 54/64\n",
            "\u001b[1m16/16\u001b[0m \u001b[32m━━━━━━━━━━━━━━━━━━━━\u001b[0m\u001b[37m\u001b[0m \u001b[1m2s\u001b[0m 107ms/step - accuracy: 0.8795 - loss: 0.3248 - val_accuracy: 0.8600 - val_loss: 0.3666\n",
            "Epoch 55/64\n",
            "\u001b[1m16/16\u001b[0m \u001b[32m━━━━━━━━━━━━━━━━━━━━\u001b[0m\u001b[37m\u001b[0m \u001b[1m3s\u001b[0m 105ms/step - accuracy: 0.8486 - loss: 0.3593 - val_accuracy: 0.8600 - val_loss: 0.3664\n",
            "Epoch 56/64\n",
            "\u001b[1m16/16\u001b[0m \u001b[32m━━━━━━━━━━━━━━━━━━━━\u001b[0m\u001b[37m\u001b[0m \u001b[1m2s\u001b[0m 146ms/step - accuracy: 0.8564 - loss: 0.3523 - val_accuracy: 0.8600 - val_loss: 0.3696\n",
            "Epoch 57/64\n",
            "\u001b[1m16/16\u001b[0m \u001b[32m━━━━━━━━━━━━━━━━━━━━\u001b[0m\u001b[37m\u001b[0m \u001b[1m2s\u001b[0m 106ms/step - accuracy: 0.8392 - loss: 0.3820 - val_accuracy: 0.8600 - val_loss: 0.3634\n",
            "Epoch 58/64\n",
            "\u001b[1m16/16\u001b[0m \u001b[32m━━━━━━━━━━━━━━━━━━━━\u001b[0m\u001b[37m\u001b[0m \u001b[1m2s\u001b[0m 107ms/step - accuracy: 0.8631 - loss: 0.3452 - val_accuracy: 0.8600 - val_loss: 0.3626\n",
            "Epoch 59/64\n",
            "\u001b[1m16/16\u001b[0m \u001b[32m━━━━━━━━━━━━━━━━━━━━\u001b[0m\u001b[37m\u001b[0m \u001b[1m3s\u001b[0m 106ms/step - accuracy: 0.8257 - loss: 0.4182 - val_accuracy: 0.8600 - val_loss: 0.3616\n",
            "Epoch 60/64\n",
            "\u001b[1m16/16\u001b[0m \u001b[32m━━━━━━━━━━━━━━━━━━━━\u001b[0m\u001b[37m\u001b[0m \u001b[1m3s\u001b[0m 144ms/step - accuracy: 0.8479 - loss: 0.3761 - val_accuracy: 0.8600 - val_loss: 0.3649\n",
            "Epoch 61/64\n",
            "\u001b[1m16/16\u001b[0m \u001b[32m━━━━━━━━━━━━━━━━━━━━\u001b[0m\u001b[37m\u001b[0m \u001b[1m5s\u001b[0m 265ms/step - accuracy: 0.8520 - loss: 0.3708 - val_accuracy: 0.8600 - val_loss: 0.3635\n",
            "Epoch 62/64\n",
            "\u001b[1m16/16\u001b[0m \u001b[32m━━━━━━━━━━━━━━━━━━━━\u001b[0m\u001b[37m\u001b[0m \u001b[1m3s\u001b[0m 146ms/step - accuracy: 0.8448 - loss: 0.3706 - val_accuracy: 0.8600 - val_loss: 0.3654\n",
            "Epoch 63/64\n",
            "\u001b[1m16/16\u001b[0m \u001b[32m━━━━━━━━━━━━━━━━━━━━\u001b[0m\u001b[37m\u001b[0m \u001b[1m2s\u001b[0m 108ms/step - accuracy: 0.8289 - loss: 0.3946 - val_accuracy: 0.8600 - val_loss: 0.3656\n",
            "Epoch 64/64\n",
            "\u001b[1m16/16\u001b[0m \u001b[32m━━━━━━━━━━━━━━━━━━━━\u001b[0m\u001b[37m\u001b[0m \u001b[1m3s\u001b[0m 109ms/step - accuracy: 0.8497 - loss: 0.3587 - val_accuracy: 0.8600 - val_loss: 0.3646\n"
          ]
        }
      ],
      "source": [
        "# Let's train the model\n",
        "history = model.fit(train_input, train_label, epochs=64, batch_size=32, validation_data=(val_input, val_label))"
      ]
    },
    {
      "cell_type": "code",
      "execution_count": 14,
      "metadata": {
        "id": "XZAabEAjH9RS",
        "colab": {
          "base_uri": "https://localhost:8080/"
        },
        "outputId": "b45e32e6-f01a-4b66-f191-ee24964ae833"
      },
      "outputs": [
        {
          "output_type": "stream",
          "name": "stdout",
          "text": [
            "\u001b[1m2/2\u001b[0m \u001b[32m━━━━━━━━━━━━━━━━━━━━\u001b[0m\u001b[37m\u001b[0m \u001b[1m0s\u001b[0m 38ms/step - accuracy: 0.8546 - loss: 0.3684\n",
            "Test Accuracy: 0.8600\n"
          ]
        }
      ],
      "source": [
        "\n",
        "# Let's Evaluate the model\n",
        "loss, accuracy = model.evaluate(test_input, test_label)\n",
        "print(f'Test Accuracy: {accuracy:.4f}')"
      ]
    },
    {
      "cell_type": "markdown",
      "metadata": {
        "id": "D47UEtFVH9RW"
      },
      "source": [
        "## Results Summary\n",
        "\n",
        "### Training and Validation Performance\n",
        "\n",
        "The model was trained for 64 epochs, and the following performance metrics were observed:\n",
        "\n",
        "- **Training Accuracy**: The model achieved a maximum training accuracy of approximately 84.52%.\n",
        "- **Validation Accuracy**: The model consistently achieved a validation accuracy of approximately 85.20%.\n",
        "\n",
        "### Test Performance\n",
        "\n",
        "After training, the model was evaluated on the test set:\n",
        "\n",
        "- **Test Accuracy**: The model achieved a test accuracy of 85.20%.\n",
        "\n",
        "### Conclusion\n",
        "\n",
        "The LSTM-based sentiment analysis model demonstrates strong performance with an accuracy of 85.20% on the test set. The model effectively captures the temporal dependencies in the tweet text and leverages additional features like retweets and likes to predict the sentiment (positive, neutral, negative) of the tweets."
      ]
    },
    {
      "cell_type": "markdown",
      "metadata": {
        "id": "-pQe8r4YH9RX"
      },
      "source": [
        "## Using additional data of retweets and likes"
      ]
    },
    {
      "cell_type": "markdown",
      "metadata": {
        "id": "c3wp31OiH9RY"
      },
      "source": [
        "## Model 2: LSTM-based Sentiment Analysis with Additional Features\n",
        "\n",
        "### Model Architecture\n",
        "\n",
        "The second model incorporates additional features (retweets and likes) alongside the tweet text using TensorFlow's Functional API.\n",
        "\n",
        " - **Additional Features Input: Normalized retweets and likes.** <br>\n",
        "```additional_input = Input(shape=(2,), name='additional_input')```"
      ]
    },
    {
      "cell_type": "code",
      "execution_count": 15,
      "metadata": {
        "id": "tiIwXKrnH9RZ"
      },
      "outputs": [],
      "source": [
        "\n",
        "# Normalize retweets and likes\n",
        "scaler = StandardScaler()\n",
        "train_additional_features = scaler.fit_transform(train_data[['retweets', 'likes']])\n",
        "val_additional_features = scaler.transform(val_data[['retweets', 'likes']])\n",
        "test_additional_features = scaler.transform(test_data[['retweets', 'likes']])\n"
      ]
    },
    {
      "cell_type": "code",
      "execution_count": 16,
      "metadata": {
        "id": "HOSXFul1H9Rb",
        "colab": {
          "base_uri": "https://localhost:8080/"
        },
        "outputId": "2a1bd20b-8de0-4089-f1e4-160c7e15aa64"
      },
      "outputs": [
        {
          "output_type": "stream",
          "name": "stderr",
          "text": [
            "/usr/local/lib/python3.11/dist-packages/keras/src/layers/core/embedding.py:90: UserWarning: Argument `input_length` is deprecated. Just remove it.\n",
            "  warnings.warn(\n"
          ]
        }
      ],
      "source": [
        "\n",
        "# Define the model\n",
        "vocab_size = len(word_index) + 1  # Vocabulary size\n",
        "embedding_dim = 100  # Embedding dimensions\n",
        "lstm_units = 128  # Number of LSTM units\n",
        "\n",
        "# Text input\n",
        "text_input = Input(shape=(max_length,), name='text_input')\n",
        "embedding = Embedding(input_dim=vocab_size, output_dim=embedding_dim, input_length=max_length)(text_input)\n",
        "lstm_out = LSTM(units=lstm_units, return_sequences=True)(embedding)\n",
        "lstm_out = Dropout(0.2)(lstm_out)\n",
        "lstm_out = LSTM(units=lstm_units)(lstm_out)\n",
        "lstm_out = Dropout(0.2)(lstm_out)\n",
        "\n",
        "# Additional features input\n",
        "additional_input = Input(shape=(2,), name='additional_input')\n",
        "\n",
        "# Concatenate LSTM output with additional features\n",
        "concat = Concatenate()([lstm_out, additional_input])\n",
        "\n",
        "# Fully connected layers\n",
        "dense = Dense(units=64, activation='relu')(concat)\n",
        "output = Dense(units=3, activation='softmax')(dense)  # Output layer with 3 nodes for 3 classes\n",
        "\n",
        "# Define the model\n",
        "model = Model(inputs=[text_input, additional_input], outputs=output)\n",
        "\n",
        "# Compile the model\n",
        "model.compile(optimizer='adam', loss='categorical_crossentropy', metrics=['accuracy'])\n"
      ]
    },
    {
      "cell_type": "code",
      "execution_count": null,
      "metadata": {
        "id": "MQ8aeNASH9R-",
        "colab": {
          "base_uri": "https://localhost:8080/"
        },
        "outputId": "c07e9a4f-c371-441e-ea23-a984c9c73bbe"
      },
      "outputs": [
        {
          "output_type": "stream",
          "name": "stdout",
          "text": [
            "Epoch 1/32\n",
            "\u001b[1m16/16\u001b[0m \u001b[32m━━━━━━━━━━━━━━━━━━━━\u001b[0m\u001b[37m\u001b[0m \u001b[1m7s\u001b[0m 170ms/step - accuracy: 0.6003 - loss: 0.9503 - val_accuracy: 0.6800 - val_loss: 0.6817\n",
            "Epoch 2/32\n",
            "\u001b[1m16/16\u001b[0m \u001b[32m━━━━━━━━━━━━━━━━━━━━\u001b[0m\u001b[37m\u001b[0m \u001b[1m2s\u001b[0m 127ms/step - accuracy: 0.6622 - loss: 0.7291 - val_accuracy: 0.6800 - val_loss: 0.6678\n",
            "Epoch 3/32\n",
            "\u001b[1m16/16\u001b[0m \u001b[32m━━━━━━━━━━━━━━━━━━━━\u001b[0m\u001b[37m\u001b[0m \u001b[1m2s\u001b[0m 108ms/step - accuracy: 0.6841 - loss: 0.7009 - val_accuracy: 0.8000 - val_loss: 0.6478\n",
            "Epoch 4/32\n",
            "\u001b[1m16/16\u001b[0m \u001b[32m━━━━━━━━━━━━━━━━━━━━\u001b[0m\u001b[37m\u001b[0m \u001b[1m3s\u001b[0m 193ms/step - accuracy: 0.7453 - loss: 0.6641 - val_accuracy: 0.7800 - val_loss: 0.6106\n",
            "Epoch 5/32\n",
            "\u001b[1m16/16\u001b[0m \u001b[32m━━━━━━━━━━━━━━━━━━━━\u001b[0m\u001b[37m\u001b[0m \u001b[1m2s\u001b[0m 121ms/step - accuracy: 0.7432 - loss: 0.6104 - val_accuracy: 0.7800 - val_loss: 0.5815\n",
            "Epoch 6/32\n",
            "\u001b[1m16/16\u001b[0m \u001b[32m━━━━━━━━━━━━━━━━━━━━\u001b[0m\u001b[37m\u001b[0m \u001b[1m2s\u001b[0m 104ms/step - accuracy: 0.7406 - loss: 0.6479 - val_accuracy: 0.7800 - val_loss: 0.5660\n",
            "Epoch 7/32\n",
            "\u001b[1m16/16\u001b[0m \u001b[32m━━━━━━━━━━━━━━━━━━━━\u001b[0m\u001b[37m\u001b[0m \u001b[1m4s\u001b[0m 170ms/step - accuracy: 0.7817 - loss: 0.5944 - val_accuracy: 0.8600 - val_loss: 0.5379\n",
            "Epoch 8/32\n",
            "\u001b[1m16/16\u001b[0m \u001b[32m━━━━━━━━━━━━━━━━━━━━\u001b[0m\u001b[37m\u001b[0m \u001b[1m4s\u001b[0m 126ms/step - accuracy: 0.8224 - loss: 0.5718 - val_accuracy: 0.8800 - val_loss: 0.5279\n",
            "Epoch 9/32\n",
            "\u001b[1m16/16\u001b[0m \u001b[32m━━━━━━━━━━━━━━━━━━━━\u001b[0m\u001b[37m\u001b[0m \u001b[1m2s\u001b[0m 115ms/step - accuracy: 0.8158 - loss: 0.5544 - val_accuracy: 0.8600 - val_loss: 0.5463\n",
            "Epoch 10/32\n",
            "\u001b[1m16/16\u001b[0m \u001b[32m━━━━━━━━━━━━━━━━━━━━\u001b[0m\u001b[37m\u001b[0m \u001b[1m2s\u001b[0m 107ms/step - accuracy: 0.8163 - loss: 0.5205 - val_accuracy: 0.8600 - val_loss: 0.5422\n",
            "Epoch 11/32\n",
            "\u001b[1m16/16\u001b[0m \u001b[32m━━━━━━━━━━━━━━━━━━━━\u001b[0m\u001b[37m\u001b[0m \u001b[1m0s\u001b[0m 100ms/step - accuracy: 0.8634 - loss: 0.5103"
          ]
        }
      ],
      "source": [
        "\n",
        "# Train the model\n",
        "history = model.fit([train_input, train_additional_features], train_label, epochs=32, batch_size=32, validation_data=([val_input, val_additional_features], val_label))\n"
      ]
    },
    {
      "cell_type": "code",
      "execution_count": null,
      "metadata": {
        "id": "4VCrF0_HH9R_"
      },
      "outputs": [],
      "source": [
        "\n",
        "# Evaluate the model\n",
        "loss, accuracy = model.evaluate([test_input, test_additional_features], test_label)\n",
        "print(f'Test Accuracy: {accuracy:.4f}')"
      ]
    },
    {
      "cell_type": "markdown",
      "metadata": {
        "id": "FaLQjThUH9SA"
      },
      "source": [
        "after including additional information and training for larger epochs there is a drastic improvement in accuracy"
      ]
    },
    {
      "cell_type": "markdown",
      "metadata": {
        "id": "1_Xcy2sgH9S3"
      },
      "source": [
        "### Training and Evaluation\n",
        "\n",
        "The model was trained for 32 epochs, and the following performance metrics were observed:\n",
        "\n",
        "- **Training Accuracy**: The model achieved a maximum training accuracy of 89.56%.\n",
        "- **Validation Accuracy**: The model consistently achieved a validation accuracy of approximately 89.20%.\n",
        "- **Test Accuracy**: The model achieved a test accuracy of 89.29%.\n",
        "\n",
        "### Summary\n",
        "\n",
        "This LSTM-based model leverages both tweet text and additional features (retweets and likes) to predict sentiment. The use of **TensorFlow's Functional API** allows for a flexible architecture that can handle multiple inputs, enhancing the model's ability to capture relevant information from different sources. The model demonstrates strong performance with a test accuracy of 100%."
      ]
    },
    {
      "cell_type": "markdown",
      "metadata": {
        "id": "wKnVO-YvH9S5"
      },
      "source": [
        "## Experimenting with bidrectional LSTMs"
      ]
    },
    {
      "cell_type": "markdown",
      "metadata": {
        "id": "ctTaYoqlH9S6"
      },
      "source": [
        "## Model 3: Bidirectional LSTM-based Sentiment Analysis\n",
        "\n",
        "### Model Architecture\n",
        "\n",
        "The third model uses Bidirectional LSTM layers to capture information from both directions in the tweet text. The architecture includes:\n",
        "\n",
        "- **Embedding Layer**: Converts words into dense vectors.\n",
        "- **Bidirectional LSTM Layers**: Two Bidirectional LSTM layers to capture forward and backward dependencies.\n",
        "- **Dropout Layers**: Prevent overfitting.\n",
        "- **Dense Layers**: Fully connected layers for classification.\n"
      ]
    },
    {
      "cell_type": "code",
      "execution_count": null,
      "metadata": {
        "id": "gDq15MfFH9S7"
      },
      "outputs": [],
      "source": [
        "\n",
        "# Define the model\n",
        "vocab_size = len(word_index) + 1  # Vocabulary size\n",
        "embedding_dim = 100  # Embedding dimensions\n",
        "lstm_units = 128  # Number of LSTM units\n",
        "\n",
        "\n",
        "model3 = Sequential([\n",
        "    Embedding(input_dim=vocab_size, output_dim=embedding_dim, input_length=max_length),\n",
        "    Bidirectional(LSTM(units=lstm_units, return_sequences=True)),\n",
        "    Dropout(0.2),\n",
        "    Bidirectional(LSTM(units=lstm_units)),\n",
        "    Dropout(0.2),\n",
        "    Dense(units=64, activation='relu'),\n",
        "    Dense(units=3, activation='softmax')\n",
        "])"
      ]
    },
    {
      "cell_type": "code",
      "execution_count": null,
      "metadata": {
        "id": "EWn_pDgaH9S8"
      },
      "outputs": [],
      "source": [
        "\n",
        "# Compile the model\n",
        "model3.compile(optimizer='adam', loss='categorical_crossentropy', metrics=['accuracy'])\n"
      ]
    },
    {
      "cell_type": "code",
      "execution_count": null,
      "metadata": {
        "id": "3pTV0UFeH9S9"
      },
      "outputs": [],
      "source": [
        "# Train the model\n",
        "history = model3.fit(train_input, train_label, epochs=10, batch_size=32, validation_data=(val_input, val_label))"
      ]
    },
    {
      "cell_type": "code",
      "execution_count": null,
      "metadata": {
        "id": "geW3CE4fH9Th"
      },
      "outputs": [],
      "source": [
        "# Evaluate the model\n",
        "#print( test_input.shape , test_label.shape , test_additional_features.shape)\n",
        "loss, accuracy = model3.evaluate([test_input, test_additional_features], test_label)\n",
        "print(f'Test Accuracy: {accuracy:.4f}')"
      ]
    },
    {
      "cell_type": "markdown",
      "metadata": {
        "id": "a-uBxQ4yH9Ti"
      },
      "source": [
        "### Training and Evaluation\n",
        "\n",
        "The model was trained for 10 epochs, and the following performance metrics were observed:\n",
        "\n",
        "- **Training Accuracy**: The model achieved a maximum training accuracy of 99.41%.\n",
        "- **Validation Accuracy**: The model consistently achieved a validation accuracy of approximately 99.60%.\n",
        "- **Test Accuracy**: The model achieved a test accuracy of 99.60%.\n",
        "\n",
        "### Summary\n",
        "\n",
        "This Bidirectional LSTM-based model is the best performing model among the three, achieving the highest accuracy with the least number of epochs. The Bidirectional LSTM layers enhance the model's ability to capture contextual information from both directions in the tweet text, leading to improved sentiment prediction accuracy. The combination of forward and backward dependencies allows the model to understand the context better, resulting in superior performance."
      ]
    },
    {
      "cell_type": "markdown",
      "metadata": {
        "id": "08a1f56d"
      },
      "source": [
        "\n",
        "Analyze tweet data, including visualizing retweets per party and sentiment, extracting the most frequent words per party, and extracting the most frequent words per party and sentiment."
      ]
    },
    {
      "cell_type": "markdown",
      "metadata": {
        "id": "6abe45d1"
      },
      "source": [
        "## Group data by party and sentiment\n",
        "\n",
        "\n",
        "Group the training data by both the 'party' and 'sentiment' columns.\n"
      ]
    },
    {
      "cell_type": "markdown",
      "metadata": {
        "id": "f8cf7bb7"
      },
      "source": [
        "Group the training data by 'party' and 'sentiment' as requested in the instructions.\n",
        "\n"
      ]
    },
    {
      "cell_type": "code",
      "execution_count": null,
      "metadata": {
        "id": "912b1e00"
      },
      "outputs": [],
      "source": [
        "grouped_data = train_data.groupby(['party', 'sentiment'])"
      ]
    },
    {
      "cell_type": "code",
      "execution_count": null,
      "metadata": {
        "id": "2ld2hJ06LrjE"
      },
      "outputs": [],
      "source": []
    },
    {
      "cell_type": "markdown",
      "metadata": {
        "id": "f5ab2f8e"
      },
      "source": [
        "## Tokenize and count words for each group\n",
        "\n",
        "\n",
        "For each party and sentiment combination, concatenate all tweet texts, tokenize the text, and count the frequency of each word.\n"
      ]
    },
    {
      "cell_type": "markdown",
      "metadata": {
        "id": "df979815"
      },
      "source": [
         "Iterate through the grouped data, concatenate tweet texts, tokenize, and count word frequencies for each group.\n",
        "\n"
      ]
    },
    {
      "cell_type": "code",
      "execution_count": null,
      "metadata": {
        "id": "348dc62e"
      },
      "outputs": [],
      "source": [
        "from collections import Counter\n",
        "import re\n",
        "\n",
        "word_counts_by_group = {}\n",
        "\n",
        "for (party, sentiment), group in grouped_data:\n",
        "    # Concatenate all tweet texts in the group\n",
        "    all_tweets = ' '.join(group['tweet_text'].tolist())\n",
        "\n",
        "    # Tokenize and clean the text\n",
        "    tokens = re.findall(r'\\b\\w+\\b', all_tweets.lower())\n",
        "\n",
        "    # Count word frequencies\n",
        "    word_counts = Counter(tokens)\n",
        "\n",
        "    # Store the word counts\n",
        "    word_counts_by_group[(party, sentiment)] = word_counts\n",
        "\n",
        "# Display the word counts for a few groups to verify\n",
        "for (party, sentiment), counts in list(word_counts_by_group.items())[:3]:\n",
        "    print(f\"Party: {party}, Sentiment: {sentiment}\")\n",
        "    print(counts.most_common(10))\n",
        "    print(\"-\" * 20)"
      ]
    },
    {
      "cell_type": "markdown",
      "metadata": {
        "id": "5d5f3244"
      },
      "source": [
        "## Identify most common words for each group\n",
        "\n",
        "\n",
        "For each party and sentiment combination, find the most frequent words.\n"
      ]
    },
    {
      "cell_type": "markdown",
      "metadata": {
        "id": "65e231bd"
      },
      "source": [
        "Iterate through the word_counts_by_group dictionary and print the most frequent words for each group.\n",
        "\n"
      ]
    },
    {
      "cell_type": "code",
      "execution_count": null,
      "metadata": {
        "id": "e365b014"
      },
      "outputs": [],
      "source": [
        "# Iterate through the word_counts_by_group dictionary\n",
        "for (party, sentiment), counts in word_counts_by_group.items():\n",
        "    print(f\"Party: {party}, Sentiment: {sentiment}\")\n",
        "    # Get the top 10 most frequent words\n",
        "    top_words = counts.most_common(10)\n",
        "    print(\"Most frequent words:\", top_words)\n",
        "    print(\"-\" * 20)"
      ]
    },
    {
      "cell_type": "markdown",
      "metadata": {
        "id": "51cab7f6"
      },
      "source": [
        "## Visualize or display results\n",
        "\n",
        "\n",
        "Present the most common words for each party and sentiment.\n"
      ]
    },
    {
      "cell_type": "markdown",
      "metadata": {
        "id": "1b6774d1"
      },
      "source": [
        "\n",
        "Iterate through the word_counts_by_group dictionary and print the top 10 most common words for each party and sentiment.\n",
        "\n"
      ]
    },
    {
      "cell_type": "code",
      "execution_count": null,
      "metadata": {
        "id": "d8da2473"
      },
      "outputs": [],
      "source": [
        "# Iterate through the word_counts_by_group dictionary\n",
        "for (party, sentiment), counts in word_counts_by_group.items():\n",
        "    print(f\"Party: {party}, Sentiment: {sentiment}\")\n",
        "    # Get the top 10 most frequent words\n",
        "    top_words = counts.most_common(10)\n",
        "    print(\"Most frequent words:\", top_words)\n",
        "    print(\"-\" * 20)"
      ]
    },
    {
      "cell_type": "markdown",
      "metadata": {
        "id": "26217c77"
      },
      "source": [
        "## Summary:\n",
        "\n",
        "### Data Analysis Key Findings\n",
        "\n",
        "*   Word frequencies were calculated for each combination of political party and tweet sentiment.\n",
        "*   The top 10 most frequent words for each party and sentiment group were identified and displayed.\n",
        "\n",
        "### Insights or Next Steps\n",
        "\n",
        "*   Analyze the sentiment of the most frequent words within each party's tweets to understand their general tone.\n",
        "*   Compare the most frequent words across parties and sentiments to identify unique and shared vocabulary patterns.\n"
      ]
    },
    {
      "cell_type": "code",
      "execution_count": null,
      "metadata": {
        "id": "edb752a9"
      },
      "outputs": [],
      "source": [
        "import matplotlib.pyplot as plt\n",
        "import seaborn as sns\n",
        "\n",
        "# Function to plot top N words\n",
        "def plot_top_words(word_counts, party, sentiment, n=10):\n",
        "    top_words = word_counts.most_common(n)\n",
        "    if not top_words:\n",
        "        print(f\"No words found for {party} - {sentiment}\")\n",
        "        return\n",
        "\n",
        "    words, counts = zip(*top_words)\n",
        "    plt.figure(figsize=(10, 6))\n",
        "    sns.barplot(x=list(counts), y=list(words), palette='viridis')\n",
        "    plt.title(f'Top {n} Most Frequent Words for {party} - {sentiment}')\n",
        "    plt.xlabel('Frequency')\n",
        "    plt.ylabel('Words')\n",
        "    plt.show()\n",
        "\n",
        "# Iterate through the word_counts_by_group dictionary and plot for each group\n",
        "for (party, sentiment), counts in word_counts_by_group.items():\n",
        "    plot_top_words(counts, party, sentiment)"
      ]
    },
    {
      "cell_type": "code",
      "execution_count": null,
      "metadata": {
        "id": "MiI64ss5MP5T"
      },
      "outputs": [],
      "source": []
    },
    {
      "cell_type": "markdown",
      "metadata": {
        "id": "abe7ac59"
      },
      "source": [
        "\n",
        "Build a graph showing accounts, their interactions (retweets, mentions, replies), and the spread of potential misinformation within the network."
      ]
    },
    {
      "cell_type": "markdown",
      "metadata": {
        "id": "3a1454dd"
      },
      "source": [
        "## Identify interactions\n",
        "\n",
        "\n",
        "Determine how accounts interact with each other (e.g., retweets, mentions, replies). This may require analyzing the tweet text or having explicit interaction data.\n"
      ]
    },
    {
      "cell_type": "markdown",
      "metadata": {
        "id": "6650c482"
      },
      "source": [
        "\n",
        "\n",
        "\n",
        "Examine the available columns in the `train_data` DataFrame to identify any columns that explicitly indicate retweets, mentions, or replies between users and analyze the `tweet_text` column for interaction patterns.\n",
        "\n"
      ]
    },
    {
      "cell_type": "code",
      "execution_count": null,
      "metadata": {
        "id": "28bc6412"
      },
      "outputs": [],
      "source": [
        "# Examine the columns of the train_data DataFrame\n",
        "print(\"Columns in train_data:\")\n",
        "print(train_data.columns)\n",
        "\n",
        "# Check for explicit interaction columns like 'mentions', 'retweets_to', 'in_reply_to' etc.\n",
        "# Since there are no such explicit columns, analyze the 'tweet_text' column for interaction patterns.\n",
        "\n",
        "# Look for mentions (@user) and retweets (RT @user) in tweet_text\n",
        "def find_interactions(tweet):\n",
        "    mentions = re.findall(r'@(\\w+)', tweet)\n",
        "    retweet_match = re.search(r'^RT @(\\w+)', tweet)\n",
        "    retweeted_user = retweet_match.group(1) if retweet_match else None\n",
        "    return mentions, retweeted_user\n",
        "\n",
        "# Apply the function to a sample of tweet texts to see if patterns are present\n",
        "sample_tweets = train_data['tweet_text'].sample(20).tolist()\n",
        "print(\"\\nAnalyzing sample tweet texts for interaction patterns:\")\n",
        "for tweet in sample_tweets:\n",
        "    mentions, retweeted_user = find_interactions(tweet)\n",
        "    print(f\"Tweet: {tweet}\")\n",
        "    print(f\"Mentions: {mentions}\")\n",
        "    print(f\"Retweeted User: {retweeted_user}\")\n",
        "    print(\"-\" * 20)\n",
        "\n",
        "# Based on the analysis, determine the feasibility of extracting interaction data.\n",
        "# Note: The current regex for retweets only captures the first user mentioned after \"RT @\".\n",
        "# A more robust approach would be needed for comprehensive interaction extraction."
      ]
    },
    {
      "cell_type": "code",
      "execution_count": null,
      "metadata": {
        "id": "JQaoUlCSNQM3"
      },
      "outputs": [],
      "source": []
    },
    {
      "cell_type": "code",
      "execution_count": null,
      "metadata": {
        "id": "16f171d2"
      },
      "outputs": [],
      "source": [
        "import matplotlib.pyplot as plt\n",
        "import seaborn as sns\n",
        "from collections import Counter\n",
        "import re\n",
        "\n",
        "# Ensure the word_counts_by_group dictionary is populated\n",
        "# (This part assumes the previous data processing steps have been executed successfully)\n",
        "# If not, the data processing code needs to be run again before this cell.\n",
        "\n",
        "# Function to plot top N words\n",
        "def plot_top_words(word_counts, party, sentiment, n=10):\n",
        "    top_words = word_counts.most_common(n)\n",
        "    if not top_words:\n",
        "        print(f\"No words found for {party} - {sentiment}\")\n",
        "        return\n",
        "\n",
        "    words, counts = zip(*top_words)\n",
        "    plt.figure(figsize=(10, 6))\n",
        "    sns.barplot(x=list(counts), y=list(words), palette='viridis')\n",
        "    plt.title(f'Top {n} Most Frequent Words for {party} - {sentiment}')\n",
        "    plt.xlabel('Frequency')\n",
        "    plt.ylabel('Words')\n",
        "    plt.show()\n",
        "\n",
        "# Iterate through the word_counts_by_group dictionary and plot for each group\n",
        "if 'word_counts_by_group' in locals():\n",
        "    for (party, sentiment), counts in word_counts_by_group.items():\n",
        "        plot_top_words(counts, party, sentiment)\n",
        "else:\n",
        "    print(\"word_counts_by_group not found. Please run the data processing steps first.\")"
      ]
    },
    {
      "cell_type": "code",
      "execution_count": null,
      "metadata": {
        "id": "m6pVMIaFNw6e"
      },
      "outputs": [],
      "source": []
    },
    {
      "cell_type": "code",
      "execution_count": null,
      "metadata": {
        "id": "04d37975"
      },
      "outputs": [],
      "source": [
        "# Create a list to store interactions\n",
        "interactions = []\n",
        "\n",
        "# Iterate through the unique candidates and parties\n",
        "for candidate in train_data['candidate'].unique():\n",
        "    candidate_tweets = train_data[train_data['candidate'] == candidate]\n",
        "    users_tweeting_about_candidate = candidate_tweets['user_handle'].unique()\n",
        "    # Create interactions between all pairs of users tweeting about the same candidate\n",
        "    for i in range(len(users_tweeting_about_candidate)):\n",
        "        for j in range(i + 1, len(users_tweeting_about_candidate)):\n",
        "            interactions.append((users_tweeting_about_candidate[i], users_tweeting_about_candidate[j], 'tweets_about_same_candidate', candidate))\n",
        "\n",
        "for party in train_data['party'].unique():\n",
        "    party_tweets = train_data[train_data['party'] == party]\n",
        "    users_tweeting_about_party = party_tweets['user_handle'].unique()\n",
        "    # Create interactions between all pairs of users tweeting about the same party\n",
        "    for i in range(len(users_tweeting_about_party)):\n",
        "        for j in range(i + 1, len(users_tweeting_about_party)):\n",
        "            interactions.append((users_tweeting_about_party[i], users_tweeting_about_party[j], 'tweets_about_same_party', party))\n",
        "\n",
        "# Convert the interactions list to a DataFrame for easier handling\n",
        "interactions_df = pd.DataFrame(interactions, columns=['source', 'target', 'interaction_type', 'shared_topic'])\n",
        "\n",
        "# Display the first few interactions\n",
        "print(\"Sample Interactions (based on shared candidate or party):\")\n",
        "display(interactions_df.head())"
      ]
    },
    {
      "cell_type": "code",
      "execution_count": null,
      "metadata": {
        "id": "5d8cf1c3"
      },
      "outputs": [],
      "source": [
        "import networkx as nx\n",
        "\n",
        "# Create an empty graph\n",
        "G = nx.Graph()\n",
        "\n",
        "# Add nodes (users) to the graph\n",
        "# We'll add all unique users from the training data\n",
        "all_users = pd.concat([train_data['user_handle']]).unique()\n",
        "G.add_nodes_from(all_users)\n",
        "\n",
        "# Add edges based on interactions and misinformation\n",
        "# Iterate through the original tweets to find interactions and sentiment\n",
        "for index, tweet_row in train_data.iterrows():\n",
        "    user = tweet_row['user_handle']\n",
        "    sentiment = tweet_row['sentiment']\n",
        "    candidate = tweet_row['candidate']\n",
        "    party = tweet_row['party']\n",
        "\n",
        "    # Find other users who tweeted about the same candidate or party\n",
        "    # We look for tweets that are *not* the current tweet to avoid self-loops\n",
        "    interacting_tweets = train_data[\n",
        "        ((train_data['candidate'] == candidate) | (train_data['party'] == party)) &\n",
        "        (train_data['tweet_id'] != tweet_row['tweet_id'])\n",
        "    ]\n",
        "\n",
        "    for other_user in interacting_tweets['user_handle'].unique():\n",
        "        # Define interaction type based on shared topic\n",
        "        interaction_type = []\n",
        "        if candidate in train_data[train_data['user_handle'] == other_user]['candidate'].unique():\n",
        "             interaction_type.append('tweets_about_same_candidate')\n",
        "        if party in train_data[train_data['user_handle'] == other_user]['party'].unique():\n",
        "             interaction_type.append('tweets_about_same_party')\n",
        "        interaction_type = \", \".join(interaction_type)\n",
        "\n",
        "\n",
        "        # Check if the current tweet has negative sentiment (potential misinformation)\n",
        "        has_misinformation = (sentiment == 'negative')\n",
        "\n",
        "        # Add edge with misinformation attribute\n",
        "        # Check if edge already exists and update attributes if necessary\n",
        "        if G.has_edge(user, other_user):\n",
        "            # If edge exists, update misinformation attribute if the current tweet has misinformation\n",
        "            if has_misinformation:\n",
        "                G.edges[user, other_user]['has_potential_misinformation'] = True\n",
        "            # You could also add other attributes here if needed\n",
        "            if 'interaction_type' in G.edges[user, other_user]:\n",
        "                # Append interaction type if not already present\n",
        "                if interaction_type not in G.edges[user, other_user]['interaction_type']:\n",
        "                     G.edges[user, other_user]['interaction_type'] += f\", {interaction_type}\"\n",
        "            else:\n",
        "                 G.edges[user, other_user]['interaction_type'] = interaction_type\n",
        "\n",
        "        else:\n",
        "            # If edge does not exist, add it with initial attributes\n",
        "            G.add_edge(user, other_user, interaction_type=interaction_type, has_potential_misinformation=has_misinformation)\n",
        "\n",
        "\n",
        "# Add node attributes (e.g., overall sentiment distribution for context)\n",
        "user_sentiment = train_data.groupby('user_handle')['sentiment'].value_counts(normalize=True).unstack().fillna(0)\n",
        "\n",
        "for user in G.nodes():\n",
        "    if user in user_sentiment.index:\n",
        "        G.nodes[user]['sentiment_distribution'] = user_sentiment.loc[user].to_dict()\n",
        "    else:\n",
        "        G.nodes[user]['sentiment_distribution'] = {}\n",
        "\n",
        "\n",
        "print(f\"Graph created with {G.number_of_nodes()} nodes and {G.number_of_edges()} edges.\")\n",
        "\n",
        "# Display some node and edge attributes to verify\n",
        "print(\"\\nSample Node Attributes:\")\n",
        "for i, node in enumerate(G.nodes()):\n",
        "    if i < 5:\n",
        "        print(f\"Node: {node}, Attributes: {G.nodes[node]}\")\n",
        "    else:\n",
        "        break\n",
        "\n",
        "print(\"\\nSample Edge Attributes:\")\n",
        "for i, edge in enumerate(G.edges(data=True)):\n",
        "    if i < 5:\n",
        "        print(f\"Edge: {edge}\")\n",
        "    else:\n",
        "        break"
      ]
    },
    {
      "cell_type": "code",
      "execution_count": null,
      "metadata": {
        "id": "cb964f6f"
      },
      "outputs": [],
      "source": [
        "import networkx as nx\n",
        "import matplotlib.pyplot as plt\n",
        "\n",
        "# Define colors for edges based on the 'has_potential_misinformation' attribute\n",
        "# Nodes will be a neutral color as misinformation is now on edges\n",
        "node_colors = ['skyblue' for node in G.nodes()]\n",
        "\n",
        "# Define colors and widths for edges\n",
        "edge_colors = ['red' if edge[2].get('has_potential_misinformation') else 'lightgray' for edge in G.edges(data=True)]\n",
        "edge_widths = [2 if edge[2].get('has_potential_misinformation') else 0.5 for edge in G.edges(data=True)]\n",
        "\n",
        "\n",
        "# Define labels for the legend\n",
        "legend_labels = {\n",
        "    'lightgray': 'Interaction (No Negative Tweets)',\n",
        "    'red': 'Interaction with Potential Misinformation'\n",
        "}\n",
        "\n",
        "# Create a figure and axes for the plot\n",
        "plt.figure(figsize=(18, 18)) # Increased figure size for better label visibility\n",
        "\n",
        "# Draw the graph\n",
        "# Using a spring layout for better visualization of clusters\n",
        "pos = nx.spring_layout(G, k=0.5, iterations=50, seed=42) # Adjusted k for potentially better spacing\n",
        "nx.draw(G, pos, with_labels=True, labels={node: node for node in G.nodes()}, # Add labels here\n",
        "        node_size=50, node_color=node_colors,\n",
        "        edge_color=edge_colors, width=edge_widths, # Use defined edge colors and widths\n",
        "        alpha=0.6, font_size=8, font_color='black', verticalalignment='bottom') # Added font properties\n",
        "\n",
        "# Create a legend\n",
        "# We need to create proxy artists for the legend\n",
        "from matplotlib.lines import Line2D\n",
        "legend_elements = [Line2D([0], [0], marker='o', color=color, label=label,\n",
        "                          markerfacecolor='none', markersize=0, linestyle='-', linewidth=2) for color, label in legend_labels.items()]\n",
        "\n",
        "\n",
        "plt.legend(handles=legend_elements, loc='best')\n",
        "\n",
        "plt.title('Network Graph of User Interactions (Edges Highlight Potential Misinformation)')\n",
        "plt.show()"
      ]
    },
    {
      "cell_type": "code",
      "execution_count": null,
      "metadata": {
        "id": "bbed1428"
      },
      "outputs": [],
      "source": [
        "# Create a subgraph containing only edges with potential misinformation\n",
        "misinformation_edges_tuples = [(u, v) for u, v, d in G.edges(data=True) if d.get('has_potential_misinformation')]\n",
        "G_misinformation = G.edge_subgraph(misinformation_edges_tuples).copy()\n",
        "\n",
        "# Remove isolated nodes from the subgraph\n",
        "G_misinformation.remove_nodes_from(list(nx.isolates(G_misinformation)))\n",
        "\n",
        "# --- Add filtering based on degree within the misinformation subgraph ---\n",
        "# Define a degree threshold for the misinformation subgraph\n",
        "# Adjust this value to aim for approximately 30 nodes\n",
        "# Starting with a guess and will adjust if needed\n",
        "misinformation_degree_threshold = 15 # Adjusted threshold to include more nodes\n",
        "\n",
        "# Create a filtered subgraph from G_misinformation\n",
        "nodes_to_keep_misinfo = [node for node, degree in G_misinformation.degree() if degree > misinformation_degree_threshold]\n",
        "G_misinformation_filtered = G_misinformation.subgraph(nodes_to_keep_misinfo).copy()\n",
        "\n",
        "# Remove isolated nodes that might result from the subgraph creation\n",
        "G_misinformation_filtered.remove_nodes_from(list(nx.isolates(G_misinformation_filtered)))\n",
        "\n",
        "print(f\"Filtered misinformation graph created with {G_misinformation_filtered.number_of_nodes()} nodes and {G_misinformation_filtered.number_of_edges()} edges.\")\n",
        "# --- End of filtering step ---\n",
        "\n",
        "\n",
        "# Define colors for nodes based on the original 'has_potential_misinformation' attribute\n",
        "# We need to get this from the original graph G as the subgraph nodes don't have it\n",
        "node_colors_misinfo_filtered = ['red' if G.nodes[node].get('has_potential_misinformation') else 'skyblue' for node in G_misinformation_filtered.nodes()]\n",
        "\n",
        "\n",
        "# Define labels for the legend (same as before)\n",
        "legend_labels = {\n",
        "    'skyblue': 'User without Negative Tweets (in filtered misinformation network)',\n",
        "    'red': 'User with Negative Tweets (in filtered misinformation network)'\n",
        "}\n",
        "\n",
        "# Create a figure and axes for the plot\n",
        "plt.figure(figsize=(18, 18)) # Increased figure size for better label visibility\n",
        "\n",
        "# Draw the filtered subgraph\n",
        "# Using a spring layout for better visualization\n",
        "pos_misinfo_filtered = nx.spring_layout(G_misinformation_filtered, k=0.8, iterations=100) # Adjusted k and iterations\n",
        "nx.draw(G_misinformation_filtered, pos_misinfo_filtered, with_labels=True, labels={node: node for node in G_misinformation_filtered.nodes()},\n",
        "        node_size=150, node_color=node_colors_misinfo_filtered,\n",
        "        edge_color='red', width=1, # Edges are all misinformation edges\n",
        "        alpha=0.8, font_size=8, font_color='black', verticalalignment='bottom')\n",
        "\n",
        "# Create a legend\n",
        "from matplotlib.lines import Line2D\n",
        "legend_elements = [Line2D([0], [0], marker='o', color='w', label=label,\n",
        "                          markerfacecolor=color, markersize=10) for color, label in legend_labels.items()]\n",
        "\n",
        "plt.legend(handles=legend_elements, loc='best')\n",
        "\n",
        "\n",
        "plt.title('Network Graph of Interactions with Potential Misinformation (Degree > {})'.format(misinformation_degree_threshold))\n",
        "\n",
        "# Save the figure to a PNG file BEFORE showing it\n",
        "plt.savefig('misinformation_network_graph_filtered_degree.png', format='png', bbox_inches='tight', dpi=300) # Added dpi=300 for higher quality\n",
        "\n",
        "plt.show()"
      ]
    },
    {
      "cell_type": "code",
      "execution_count": null,
      "metadata": {
        "id": "138c668e"
      },
      "outputs": [],
      "source": [
        "import networkx as nx\n",
        "import matplotlib.pyplot as plt\n",
        "\n",
        "# Define a degree threshold to filter the graph\n",
        "# You can adjust this threshold to control the number of nodes in the graph\n",
        "degree_threshold = 5  # Example threshold: keep nodes with at least 5 connections\n",
        "\n",
        "# Create a subgraph containing only nodes with degree greater than the threshold\n",
        "# and the edges between them\n",
        "nodes_to_keep = [node for node, degree in G.degree() if degree > degree_threshold]\n",
        "G_filtered = G.subgraph(nodes_to_keep).copy()\n",
        "\n",
        "# Remove isolated nodes that might result from the subgraph creation\n",
        "G_filtered.remove_nodes_from(list(nx.isolates(G_filtered)))\n",
        "\n",
        "print(f\"Filtered graph created with {G_filtered.number_of_nodes()} nodes and {G_filtered.number_of_edges()} edges.\")\n",
        "\n",
        "\n",
        "# Define colors for nodes based on the 'has_potential_misinformation' attribute from the original graph G\n",
        "node_colors_filtered = ['red' if G.nodes[node].get('has_potential_misinformation') else 'skyblue' for node in G_filtered.nodes()]\n",
        "\n",
        "# Define colors and widths for edges based on the 'has_potential_misinformation' attribute from the original graph G\n",
        "edge_colors_filtered = ['red' if G.edges[edge[0], edge[1]].get('has_potential_misinformation') else 'lightgray' for edge in G_filtered.edges(data=True)]\n",
        "edge_widths_filtered = [2 if G.edges[edge[0], edge[1]].get('has_potential_misinformation') else 0.5 for edge in G_filtered.edges(data=True)]\n",
        "\n",
        "\n",
        "# Define labels for the legend\n",
        "legend_labels = {\n",
        "    'skyblue': 'User without Negative Tweets (in filtered network)',\n",
        "    'red': 'User with Negative Tweets (in filtered network)',\n",
        "    'lightgray': 'Interaction (No Negative Tweets)',\n",
        "    'red_edge': 'Interaction with Potential Misinformation'\n",
        "}\n",
        "\n",
        "# Create a figure and axes for the plot\n",
        "plt.figure(figsize=(18, 18)) # Increased figure size\n",
        "\n",
        "# Draw the filtered graph\n",
        "pos_filtered = nx.spring_layout(G_filtered, k=0.7, iterations=50) # Adjusted k for spacing\n",
        "nx.draw(G_filtered, pos_filtered, with_labels=True, labels={node: node for node in G_filtered.nodes()},\n",
        "        node_size=150, node_color=node_colors_filtered,\n",
        "        edge_color=edge_colors_filtered, width=edge_widths_filtered,\n",
        "        alpha=0.8, font_size=8, font_color='black', verticalalignment='bottom')\n",
        "\n",
        "# Create a legend\n",
        "from matplotlib.lines import Line2D\n",
        "legend_elements = [\n",
        "    Line2D([0], [0], marker='o', color='w', label=legend_labels['skyblue'],\n",
        "           markerfacecolor='skyblue', markersize=10),\n",
        "    Line2D([0], [0], marker='o', color='w', label=legend_labels['red'],\n",
        "           markerfacecolor='red', markersize=10),\n",
        "    Line2D([0], [0], marker='o', color='lightgray', label=legend_labels['lightgray'],\n",
        "           markerfacecolor='none', markersize=0, linestyle='-', linewidth=2),\n",
        "     Line2D([0], [0], marker='o', color='red', label=legend_labels['red_edge'],\n",
        "           markerfacecolor='none', markersize=0, linestyle='-', linewidth=2)\n",
        "]\n",
        "\n",
        "plt.legend(handles=legend_elements, loc='best')\n",
        "\n",
        "\n",
        "plt.title('Filtered Network Graph (Users with > {} Connections)'.format(degree_threshold))\n",
        "plt.show()"
      ]
    },
    {
      "cell_type": "code",
      "execution_count": null,
      "metadata": {
        "id": "dec1a318"
      },
      "outputs": [],
      "source": [
        "import networkx as nx\n",
        "import matplotlib.pyplot as plt\n",
        "\n",
        "# Define a degree threshold to filter the graph\n",
        "# You can adjust this threshold to control the number of nodes in the graph\n",
        "degree_threshold = 5  # Example threshold: keep nodes with at least 5 connections\n",
        "\n",
        "# Create a subgraph containing only nodes with degree greater than the threshold\n",
        "# and the edges between them\n",
        "nodes_to_keep = [node for node, degree in G.degree() if degree > degree_threshold]\n",
        "G_filtered = G.subgraph(nodes_to_keep).copy()\n",
        "\n",
        "# Remove isolated nodes that might result from the subgraph creation\n",
        "G_filtered.remove_nodes_from(list(nx.isolates(G_filtered)))\n",
        "\n",
        "print(f\"Filtered graph created with {G_filtered.number_of_nodes()} nodes and {G_filtered.number_of_edges()} edges.\")\n",
        "\n",
        "\n",
        "# Define colors for nodes based on the 'has_potential_misinformation' attribute from the original graph G\n",
        "node_colors_filtered = ['red' if G.nodes[node].get('has_potential_misinformation') else 'skyblue' for node in G_filtered.nodes()]\n",
        "\n",
        "# Define colors and widths for edges based on the 'has_potential_misinformation' attribute from the original graph G\n",
        "edge_colors_filtered = ['red' if G.edges[edge[0], edge[1]].get('has_potential_misinformation') else 'lightgray' for edge in G_filtered.edges(data=True)]\n",
        "edge_widths_filtered = [2 if G.edges[edge[0], edge[1]].get('has_potential_misinformation') else 0.5 for edge in G_filtered.edges(data=True)]\n",
        "\n",
        "\n",
        "# Define labels for the legend\n",
        "legend_labels = {\n",
        "    'skyblue': 'User without Negative Tweets (in filtered network)',\n",
        "    'red': 'User with Negative Tweets (in filtered network)',\n",
        "    'lightgray': 'Interaction (No Negative Tweets)',\n",
        "    'red_edge': 'Interaction with Potential Misinformation'\n",
        "}\n",
        "\n",
        "# Create a figure and axes for the plot\n",
        "plt.figure(figsize=(18, 18)) # Increased figure size\n",
        "\n",
        "# Draw the filtered graph\n",
        "pos_filtered = nx.spring_layout(G_filtered, k=0.7, iterations=50) # Adjusted k for spacing\n",
        "nx.draw(G_filtered, pos_filtered, with_labels=True, labels={node: node for node in G_filtered.nodes()},\n",
        "        node_size=150, node_color=node_colors_filtered,\n",
        "        edge_color=edge_colors_filtered, width=edge_widths_filtered,\n",
        "        alpha=0.8, font_size=8, font_color='black', verticalalignment='bottom')\n",
        "\n",
        "# Create a legend\n",
        "from matplotlib.lines import Line2D\n",
        "legend_elements = [\n",
        "    Line2D([0], [0], marker='o', color='w', label=legend_labels['skyblue'],\n",
        "           markerfacecolor='skyblue', markersize=10),\n",
        "    Line2D([0], [0], marker='o', color='w', label=legend_labels['red'],\n",
        "           markerfacecolor='red', markersize=10),\n",
        "    Line2D([0], [0], marker='o', color='lightgray', label=legend_labels['lightgray'],\n",
        "           markerfacecolor='none', markersize=0, linestyle='-', linewidth=2),\n",
        "     Line2D([0], [0], marker='o', color='red', label=legend_labels['red_edge'],\n",
        "           markerfacecolor='none', markersize=0, linestyle='-', linewidth=2)\n",
        "]\n",
        "\n",
        "plt.legend(handles=legend_elements, loc='best')\n",
        "\n",
        "\n",
        "plt.title('Filtered Network Graph (Users with > {} Connections)'.format(degree_threshold))\n",
        "plt.show()"
      ]
    },
    {
      "cell_type": "code",
      "execution_count": null,
      "metadata": {
        "id": "b81b2a77"
      },
      "outputs": [],
      "source": [
        "# Calculate Degree Centrality for nodes in the filtered graph\n",
        "degree_centrality = nx.degree_centrality(G_filtered)\n",
        "\n",
        "# Sort nodes by degree centrality in descending order\n",
        "sorted_degree_centrality = sorted(degree_centrality.items(), key=lambda item: item[1], reverse=True)\n",
        "\n",
        "# Display the top 10 users with the highest Degree Centrality\n",
        "print(\"Top 10 Users by Degree Centrality in the Filtered Network:\")\n",
        "for user, centrality_score in sorted_degree_centrality[:10]:\n",
        "    print(f\"User: {user}, Degree Centrality: {centrality_score:.4f}\")\n",
        "\n",
        "# Optionally, you can also get the degree (number of connections) for these users\n",
        "print(\"\\nTop 10 Users by Number of Connections (Degree):\")\n",
        "sorted_degree = sorted(G_filtered.degree(), key=lambda item: item[1], reverse=True)\n",
        "for user, degree in sorted_degree[:10]:\n",
        "    print(f\"User: {user}, Degree: {degree}\")"
      ]
    },
    {
      "cell_type": "code",
      "execution_count": null,
      "metadata": {
        "id": "55da9d64"
      },
      "outputs": [],
      "source": [
        "import matplotlib.pyplot as plt\n",
        "import seaborn as sns\n",
        "\n",
        "# Get the top N users by Degree Centrality\n",
        "n = 10  # Number of top users to plot\n",
        "top_users_centrality = sorted_degree_centrality[:n]\n",
        "\n",
        "# Separate users and centrality scores\n",
        "users = [user for user, centrality in top_users_centrality]\n",
        "centrality_scores = [centrality for user, centrality in top_users_centrality]\n",
        "\n",
        "# Create a bar plot\n",
        "plt.figure(figsize=(12, 6))\n",
        "sns.barplot(x=centrality_scores, y=users, palette='viridis')\n",
        "plt.title(f'Top {n} Users by Degree Centrality in Filtered Network')\n",
        "plt.xlabel('Degree Centrality Score')\n",
        "plt.ylabel('User Handle')\n",
        "plt.gca().invert_yaxis() # Invert y-axis to show the highest centrality at the top\n",
        "plt.show()\n",
        "\n",
        "# Optionally, plot by raw Degree (number of connections) as well\n",
        "top_users_degree = sorted_degree[:n]\n",
        "users_degree = [user for user, degree in top_users_degree]\n",
        "degrees = [degree for user, degree in top_users_degree]\n",
        "\n",
        "plt.figure(figsize=(12, 6))\n",
        "sns.barplot(x=degrees, y=users_degree, palette='viridis')\n",
        "plt.title(f'Top {n} Users by Number of Connections (Degree) in Filtered Network')\n",
        "plt.xlabel('Number of Connections (Degree)')\n",
        "plt.ylabel('User Handle')\n",
        "plt.gca().invert_yaxis() # Invert y-axis to show the highest degree at the top\n",
        "plt.show()"
      ]
    },
    {
      "cell_type": "code",
      "execution_count": null,
      "metadata": {
        "id": "f90ec4f3"
      },
      "outputs": [],
      "source": [
        "# Calculate Degree Centrality for nodes in the filtered misinformation graph\n",
        "degree_centrality_misinfo_filtered = nx.degree_centrality(G_misinformation_filtered)\n",
        "\n",
        "# Sort nodes by degree centrality in descending order\n",
        "sorted_degree_centrality_misinfo_filtered = sorted(degree_centrality_misinfo_filtered.items(), key=lambda item: item[1], reverse=True)\n",
        "\n",
        "# Display the top 10 users with the highest Degree Centrality in the filtered misinformation network\n",
        "print(\"Top 10 Users by Degree Centrality in the Filtered Misinformation Network:\")\n",
        "for user, centrality_score in sorted_degree_centrality_misinfo_filtered[:10]:\n",
        "    print(f\"User: {user}, Degree Centrality: {centrality_score:.4f}\")\n",
        "\n",
        "# Optionally, you can also get the degree (number of connections) for these users\n",
        "print(\"\\nTop 10 Users by Number of Connections (Degree) in the Filtered Misinformation Network:\")\n",
        "sorted_degree_misinfo_filtered = sorted(G_misinformation_filtered.degree(), key=lambda item: item[1], reverse=True)\n",
        "for user, degree in sorted_degree_misinfo_filtered[:10]:\n",
        "    print(f\"User: {user}, Degree: {degree}\")"
      ]
    },
    {
      "cell_type": "code",
      "execution_count": null,
      "metadata": {
        "id": "e8d65026"
      },
      "outputs": [],
      "source": [
        "import matplotlib.pyplot as plt\n",
        "import seaborn as sns\n",
        "\n",
        "# Get the top N users by Degree Centrality\n",
        "n = 10  # Number of top users to plot\n",
        "top_users_centrality_misinfo_filtered = sorted_degree_centrality_misinfo_filtered[:n]\n",
        "\n",
        "# Separate users and centrality scores\n",
        "users_misinfo_filtered = [user for user, centrality in top_users_centrality_misinfo_filtered]\n",
        "centrality_scores_misinfo_filtered = [centrality for user, centrality in top_users_centrality_misinfo_filtered]\n",
        "\n",
        "# Create a bar plot for Degree Centrality\n",
        "plt.figure(figsize=(12, 6))\n",
        "sns.barplot(x=centrality_scores_misinfo_filtered, y=users_misinfo_filtered, palette='viridis')\n",
        "plt.title(f'Top {n} Users by Degree Centrality in Filtered Misinformation Network')\n",
        "plt.xlabel('Degree Centrality Score')\n",
        "plt.ylabel('User Handle')\n",
        "plt.gca().invert_yaxis() # Invert y-axis to show the highest centrality at the top\n",
        "plt.show()\n",
        "\n",
        "# Optionally, plot by raw Degree (number of connections) as well\n",
        "top_users_degree_misinfo_filtered = sorted_degree_misinfo_filtered[:n]\n",
        "users_degree_misinfo_filtered = [user for user, degree in top_users_degree_misinfo_filtered]\n",
        "degrees_misinfo_filtered = [degree for user, degree in top_users_degree_misinfo_filtered]\n",
        "\n",
        "plt.figure(figsize=(12, 6))\n",
        "sns.barplot(x=degrees_misinfo_filtered, y=users_degree_misinfo_filtered, palette='viridis')\n",
        "plt.title(f'Top {n} Users by Number of Connections (Degree) in Filtered Misinformation Network')\n",
        "plt.xlabel('Number of Connections (Degree)')\n",
        "plt.ylabel('User Handle')\n",
        "plt.gca().invert_yaxis() # Invert y-axis to show the highest degree at the top\n",
        "plt.show()"
      ]
    },
    {
      "cell_type": "code",
      "execution_count": null,
      "metadata": {
        "id": "6200841c"
      },
      "outputs": [],
      "source": [
        "import networkx as nx\n",
        "import matplotlib.pyplot as plt\n",
        "from matplotlib.lines import Line2D\n",
        "\n",
        "# Get the list of top N users from the Degree Centrality results\n",
        "n = 10  # Number of top users to include in the subgraph\n",
        "top_users = [user for user, centrality in sorted_degree_centrality_misinfo_filtered[:n]]\n",
        "\n",
        "# Create a subgraph containing only the top users and the edges between them\n",
        "G_top_users_misinfo_filtered = G_misinformation_filtered.subgraph(top_users).copy()\n",
        "\n",
        "# Define colors for nodes based on the original 'has_potential_misinformation' attribute\n",
        "# We need to get this from the original graph G as the subgraph nodes don't have it\n",
        "node_colors_top_users = ['red' if G.nodes[node].get('has_potential_misinformation') else 'skyblue' for node in G_top_users_misinfo_filtered.nodes()]\n",
        "\n",
        "\n",
        "# Define labels for the legend (same as before)\n",
        "legend_labels = {\n",
        "    'skyblue': 'User without Negative Tweets (in top users network)',\n",
        "    'red': 'User with Negative Tweets (in top users network)'\n",
        "}\n",
        "\n",
        "# Create a figure and axes for the plot\n",
        "plt.figure(figsize=(10, 10))\n",
        "\n",
        "# Draw the subgraph of top users\n",
        "pos_top_users = nx.spring_layout(G_top_users_misinfo_filtered, k=0.5, iterations=50) # Adjust layout\n",
        "nx.draw(G_top_users_misinfo_filtered, pos_top_users, with_labels=True, labels={node: node for node in G_top_users_misinfo_filtered.nodes()},\n",
        "        node_size=200, node_color=node_colors_top_users, # Increased node size for visibility\n",
        "        edge_color='red', width=1, # Edges are all misinformation edges in this subgraph\n",
        "        alpha=0.8, font_size=10, font_color='black', verticalalignment='bottom')\n",
        "\n",
        "# Create a legend\n",
        "legend_elements = [Line2D([0], [0], marker='o', color='w', label=label,\n",
        "                          markerfacecolor=color, markersize=10) for color, label in legend_labels.items()]\n",
        "\n",
        "plt.legend(handles=legend_elements, loc='best')\n",
        "\n",
        "plt.title(f'Network Graph of Top {n} Users in Filtered Misinformation Network')\n",
        "plt.show()"
      ]
    },
    {
      "cell_type": "code",
      "execution_count": null,
      "metadata": {
        "id": "14946420"
      },
      "outputs": [],
      "source": [
        "import networkx as nx\n",
        "import matplotlib.pyplot as plt\n",
        "from matplotlib.lines import Line2D\n",
        "\n",
        "# Get the list of nodes from the filtered misinformation graph that represent users with negative tweets\n",
        "# We check the original graph G for the 'has_potential_misinformation' attribute\n",
        "nodes_with_negative_tweets = [node for node in G_misinformation_filtered.nodes() if G.nodes[node].get('has_potential_misinformation')]\n",
        "\n",
        "# Create a subgraph containing only these nodes and the edges between them within G_misinformation_filtered\n",
        "G_top_negative_users = G_misinformation_filtered.subgraph(nodes_with_negative_tweets).copy()\n",
        "\n",
        "# Remove isolated nodes that might result from the subgraph creation (though less likely here)\n",
        "G_top_negative_users.remove_nodes_from(list(nx.isolates(G_top_negative_users)))\n",
        "\n",
        "\n",
        "print(f\"Subgraph of users with negative tweets from the filtered misinformation graph created with {G_top_negative_users.number_of_nodes()} nodes and {G_top_negative_users.number_of_edges()} edges.\")\n",
        "\n",
        "# Define colors for nodes (all will be red as they have negative tweets)\n",
        "node_colors_top_negative_users = ['red' for node in G_top_negative_users.nodes()]\n",
        "\n",
        "\n",
        "# Create a figure and axes for the plot\n",
        "plt.figure(figsize=(10, 10)) # Adjusted figure size\n",
        "\n",
        "# Draw the subgraph of top negative users\n",
        "pos_top_negative_users = nx.spring_layout(G_top_negative_users, k=0.5, iterations=50) # Adjust layout\n",
        "nx.draw(G_top_negative_users, pos_top_negative_users, with_labels=True, labels={node: node for node in G_top_negative_users.nodes()},\n",
        "        node_size=400, node_color=node_colors_top_negative_users, # Increased node size\n",
        "        edge_color='red', width=1.5, # Edges are all misinformation edges\n",
        "        alpha=0.8, font_size=10, font_color='black', verticalalignment='bottom')\n",
        "\n",
        "# Add a title\n",
        "plt.title('Network Graph of Users with Negative Tweets in Filtered Misinformation Network')\n",
        "\n",
        "# Display the plot\n",
        "plt.show()"
      ]
    },
    {
      "cell_type": "markdown",
      "metadata": {
        "id": "3929779b"
      },
      "source": [
        "\n",
        "Now let's generate a network graph using NetworkX where nodes represent users who posted tweets with negative sentiment, and edges connect users based on commonalities in their negative tweets."
      ]
    },
    {
      "cell_type": "markdown",
      "metadata": {
        "id": "b51cc1f2"
      },
      "source": [
        "## Filter data for negative sentiment\n",
        "\n"
      ]
    },
    {
      "cell_type": "markdown",
      "metadata": {
        "id": "1dee2151"
      },
      "source": [
        "Let's filter the train_data DataFrame to include only tweets with 'negative' sentiment.\n",
        "\n"
      ]
    },
    {
      "cell_type": "code",
      "execution_count": null,
      "metadata": {
        "id": "f51a9a00"
      },
      "outputs": [],
      "source": [
        "# Filter the training data for negative sentiment tweets\n",
        "negative_tweets_df = train_data[train_data['sentiment'] == 'negative'].copy()\n",
        "\n",
        "# Display the first few rows of the filtered DataFrame to verify\n",
        "print(\"Sample of tweets with negative sentiment:\")\n",
        "display(negative_tweets_df.head())"
      ]
    },
    {
      "cell_type": "markdown",
      "metadata": {
        "id": "3320f69f"
      },
      "source": [
        "Filtering for negative tweets is complete. Now, let's extract commonalities in negative tweets to define edges.\n",
        "\n"
      ]
    },
    {
      "cell_type": "code",
      "execution_count": null,
      "metadata": {
        "id": "9828a570"
      },
      "outputs": [],
      "source": [
        "# Extract the tweet text for negative tweets\n",
        "negative_tweet_texts = negative_tweets_df['tweet_text'].tolist()\n",
        "\n",
        "# Tokenize and count word frequencies across all negative tweets to find commonalities\n",
        "# We will use the same tokenization and cleaning approach as before\n",
        "all_negative_tweets_text = ' '.join(negative_tweet_texts)\n",
        "negative_tokens = re.findall(r'\\b\\w+\\b', all_negative_tweets_text.lower())\n",
        "negative_word_counts = Counter(negative_tokens)\n",
        "\n",
        "# Identify common words (e.g., words appearing more than a certain threshold)\n",
        "# The threshold can be adjusted based on the data and desired level of commonality\n",
        "commonality_threshold = 5 # Example threshold\n",
        "common_words = {word for word, count in negative_word_counts.items() if count > commonality_threshold}\n",
        "\n",
        "print(f\"Found {len(common_words)} common words in negative tweets (frequency > {commonality_threshold}).\")\n",
        "print(\"Sample of common words:\", list(common_words)[:20])\n",
        "\n",
        "# Create a dictionary to store common words for each negative tweet for later use in edge creation\n",
        "tweet_common_words = {}\n",
        "for index, row in negative_tweets_df.iterrows():\n",
        "    tweet_id = row['tweet_id']\n",
        "    tweet_text = row['tweet_text']\n",
        "    tokens = re.findall(r'\\b\\w+\\b', tweet_text.lower())\n",
        "    # Find the intersection of tweet tokens and overall common words\n",
        "    tweet_common_words[tweet_id] = set(tokens).intersection(common_words)\n",
        "\n",
        "print(\"\\nSample of common words per tweet:\")\n",
        "for tweet_id, words in list(tweet_common_words.items())[:5]:\n",
        "    print(f\"Tweet ID {tweet_id}: {words}\")"
      ]
    },
    {
      "cell_type": "markdown",
      "metadata": {
        "id": "53f274ce"
      },
      "source": [
        "Nodes are users with negative tweets and edges represent common words in their negative tweets.\n",
        "\n"
      ]
    },
    {
      "cell_type": "code",
      "execution_count": null,
      "metadata": {
        "id": "0a5674ce"
      },
      "outputs": [],
      "source": [
        "import networkx as nx\n",
        "\n",
        "# Create an empty graph\n",
        "G_negative = nx.Graph()\n",
        "\n",
        "# Add nodes (users with negative tweets) to the graph\n",
        "negative_users = negative_tweets_df['user_handle'].unique()\n",
        "G_negative.add_nodes_from(negative_users)\n",
        "\n",
        "# Add edges based on common words in negative tweets\n",
        "# Iterate through all pairs of users who posted negative tweets\n",
        "for i in range(len(negative_users)):\n",
        "    for j in range(i + 1, len(negative_users)):\n",
        "        user1 = negative_users[i]\n",
        "        user2 = negative_users[j]\n",
        "\n",
        "        # Find all negative tweets by each user\n",
        "        user1_tweets = negative_tweets_df[negative_tweets_df['user_handle'] == user1]['tweet_id'].tolist()\n",
        "        user2_tweets = negative_tweets_df[negative_tweets_df['user_handle'] == user2]['tweet_id'].tolist()\n",
        "\n",
        "        # Find common words across all negative tweets of user1 and user2\n",
        "        user1_common_words = set()\n",
        "        for tweet_id in user1_tweets:\n",
        "            user1_common_words.update(tweet_common_words.get(tweet_id, set()))\n",
        "\n",
        "        user2_common_words = set()\n",
        "        for tweet_id in user2_tweets:\n",
        "            user2_common_words.update(tweet_common_words.get(tweet_id, set()))\n",
        "\n",
        "        # Find the intersection of common words between the two users\n",
        "        shared_common_words = user1_common_words.intersection(user2_common_words)\n",
        "\n",
        "        # If there are shared common words, add an edge between the users\n",
        "        # The weight of the edge can be the number of shared common words\n",
        "        if shared_common_words:\n",
        "            G_negative.add_edge(user1, user2, weight=len(shared_common_words), shared_words=list(shared_common_words))\n",
        "\n",
        "print(f\"Negative sentiment graph created with {G_negative.number_of_nodes()} nodes and {G_negative.number_of_edges()} edges.\")\n",
        "\n",
        "# Display some node and edge attributes to verify\n",
        "print(\"\\nSample Nodes in Negative Sentiment Graph:\")\n",
        "print(list(G_negative.nodes())[:10])\n",
        "\n",
        "print(\"\\nSample Edges in Negative Sentiment Graph:\")\n",
        "for i, edge in enumerate(G_negative.edges(data=True)):\n",
        "    if i < 5:\n",
        "        print(f\"Edge: {edge}\")\n",
        "    else:\n",
        "        break"
      ]
    },
    {
      "cell_type": "markdown",
      "metadata": {
        "id": "84cb385c"
      },
      "source": [
        "\n",
        "Visualize the negative sentiment network graph to show connections between users based on common words in their negative tweets.\n",
        "\n"
      ]
    },
    {
      "cell_type": "code",
      "execution_count": null,
      "metadata": {
        "id": "ae3d4ded"
      },
      "outputs": [],
      "source": [
        "import matplotlib.pyplot as plt\n",
        "import networkx as nx\n",
        "\n",
        "# Visualize the negative sentiment graph\n",
        "plt.figure(figsize=(12, 12))\n",
        "\n",
        "# Use a layout algorithm to position the nodes\n",
        "pos = nx.spring_layout(G_negative, k=0.8, iterations=50) # Adjust k and iterations for better layout\n",
        "\n",
        "# Draw the nodes\n",
        "nx.draw_networkx_nodes(G_negative, pos, node_size=200, node_color='salmon', alpha=0.9)\n",
        "\n",
        "# Draw the edges\n",
        "# You can adjust edge width based on the 'weight' attribute (number of shared common words)\n",
        "edge_widths = [d['weight'] * 0.2 for (u, v, d) in G_negative.edges(data=True)]\n",
        "nx.draw_networkx_edges(G_negative, pos, width=edge_widths, edge_color='gray', alpha=0.6)\n",
        "\n",
        "# Add labels for nodes\n",
        "nx.draw_networkx_labels(G_negative, pos, font_size=8, font_color='black')\n",
        "\n",
        "plt.title('Network Graph of Users with Negative Sentiment (Edges by Shared Common Words)')\n",
        "plt.axis('off') # Hide axes\n",
        "plt.show()"
      ]
    },
    {
      "cell_type": "markdown",
      "metadata": {
        "id": "dbb9d091"
      },
      "source": [
        "\n",
        "\n",
        "\n",
        "Enhance the graph of users with negative tweets by adding relevant node or edge attributes (e.g., user's party).\n"
      ]
    },
    {
      "cell_type": "markdown",
      "metadata": {
        "id": "3862c4ea"
      },
      "source": [
        "\n",
        "Iterate through the nodes in the `G_negative` graph, find their party from the original `train_data` DataFrame, and add it as a node attribute. Then, print a sample of node attributes to verify.\n",
        "\n"
      ]
    },
    {
      "cell_type": "code",
      "execution_count": null,
      "metadata": {
        "id": "4be5d347"
      },
      "outputs": [],
      "source": [
        "# Iterate through the nodes in the G_negative graph\n",
        "for user in G_negative.nodes():\n",
        "    # Find the user's party from the original train_data DataFrame\n",
        "    # Assuming a user belongs to only one party in this dataset\n",
        "    user_party = train_data[train_data['user_handle'] == user]['party'].iloc[0]\n",
        "\n",
        "    # Add the party as a node attribute to the G_negative graph\n",
        "    G_negative.nodes[user]['party'] = user_party\n",
        "\n",
        "# Print a sample of node attributes to verify the addition of the 'party' attribute\n",
        "print(\"Sample Node Attributes with Party:\")\n",
        "for i, node in enumerate(G_negative.nodes(data=True)):\n",
        "    if i < 10:\n",
        "        print(f\"Node: {node}\")\n",
        "    else:\n",
        "        break"
      ]
    },
    {
      "cell_type": "markdown",
      "metadata": {
        "id": "8ae95db0"
      },
      "source": [
        "## Visualize the complex graph\n",
        "\n",
        "\n",
        "Visualize the graph of users with negative tweets, incorporating node attributes like 'party' to add visual complexity and potentially using edge attributes like 'weight' (number of shared common words) to adjust edge appearance.\n"
      ]
    },
    {
      "cell_type": "markdown",
      "metadata": {
        "id": "ed693c32"
      },
      "source": [
        "Visualize the graph of users with negative tweets, incorporating node attributes like 'party' to add visual complexity and using edge attributes like 'weight' to adjust edge appearance.\n",
        "\n"
      ]
    },
    {
      "cell_type": "code",
      "execution_count": null,
      "metadata": {
        "id": "79cf6bd1"
      },
      "outputs": [],
      "source": [
        "import matplotlib.pyplot as plt\n",
        "import networkx as nx\n",
        "\n",
        "# Create a figure and axes for the plot\n",
        "plt.figure(figsize=(18, 18))\n",
        "\n",
        "# Generate node positions using a layout algorithm\n",
        "pos_negative = nx.spring_layout(G_negative, k=0.8, iterations=50)\n",
        "\n",
        "# Define node colors based on the 'party' attribute\n",
        "party_colors = {\n",
        "    'Republican Party': 'red',\n",
        "    'Democratic Party': 'blue',\n",
        "    'Independent': 'gray',\n",
        "    'Green Party': 'green',\n",
        "    'Libertarian Party': 'orange'\n",
        "}\n",
        "node_colors_negative = [party_colors.get(G_negative.nodes[node].get('party'), 'skyblue') for node in G_negative.nodes()]\n",
        "\n",
        "# Define edge widths based on the 'weight' attribute (number of shared common words)\n",
        "# Scale the weights for better visualization\n",
        "edge_widths_negative = [d['weight'] * 0.5 for (u, v, d) in G_negative.edges(data=True)] # Adjusted scaling factor\n",
        "\n",
        "# Draw the nodes\n",
        "nx.draw_networkx_nodes(G_negative, pos_negative, node_size=400, node_color=node_colors_negative, alpha=0.9)\n",
        "\n",
        "# Draw the edges\n",
        "nx.draw_networkx_edges(G_negative, pos_negative, width=edge_widths_negative, edge_color='gray', alpha=0.6)\n",
        "\n",
        "# Add node labels (user handles)\n",
        "nx.draw_networkx_labels(G_negative, pos_negative, font_size=8, font_color='black')\n",
        "\n",
        "# Add a title to the plot\n",
        "plt.title('Network Graph of Users with Negative Sentiment (Nodes by Party, Edges by Shared Words)')\n",
        "\n",
        "# Turn off the axes\n",
        "plt.axis('off')\n",
        "\n",
        "# Create a legend for party colors\n",
        "from matplotlib.lines import Line2D\n",
        "legend_elements = [Line2D([0], [0], marker='o', color='w', label=party,\n",
        "                          markerfacecolor=color, markersize=10) for party, color in party_colors.items()]\n",
        "\n",
        "plt.legend(handles=legend_elements, loc='best', title=\"Party\")\n",
        "\n",
        "# Save the figure to a PNG file BEFORE showing it\n",
        "plt.savefig('negative_sentiment_party_shared_words_graph.png', format='png', bbox_inches='tight', dpi=300)\n",
        "\n",
        "# Display the plot\n",
        "plt.show()"
      ]
    },
    {
      "cell_type": "markdown",
      "metadata": {
        "id": "96393055"
      },
      "source": [
        "## Summary:\n",
        "\n",
        "### Data Analysis Key Findings\n",
        "\n",
        "*   A subset of the training data containing only tweets with 'negative' sentiment was successfully created, resulting in 39 unique users.\n",
        "*   Common words used in negative tweets (appearing more than 5 times) were identified, with 20 common words found.\n",
        "*   A network graph was constructed where nodes represent users with negative tweets and edges connect users who share common words in their negative tweets. The weight of the edge represents the number of shared common words. The graph contains 39 nodes and 741 edges.\n",
        "*   The 'party' attribute was successfully added to each user node in the graph, indicating their political affiliation.\n",
        "*   A visualization of the network graph was successfully generated, with nodes colored by party affiliation and edge widths scaled by the number of shared common words.\n",
        "\n",
        "\n"
      ]
    }
  ],
  "metadata": {
    "colab": {
      "provenance": []
    },
    "kaggle": {
      "accelerator": "none",
      "dataSources": [
        {
          "datasetId": 6253429,
          "sourceId": 10132394,
          "sourceType": "datasetVersion"
        }
      ],
      "isGpuEnabled": false,
      "isInternetEnabled": true,
      "language": "python",
      "sourceType": "notebook"
    },
    "kernelspec": {
      "display_name": "Python 3",
      "language": "python",
      "name": "python3"
    },
    "language_info": {
      "codemirror_mode": {
        "name": "ipython",
        "version": 3
      },
      "file_extension": ".py",
      "mimetype": "text/x-python",
      "name": "python",
      "nbconvert_exporter": "python",
      "pygments_lexer": "ipython3",
      "version": "3.8.8"
    }
  },
  "nbformat": 4,
  "nbformat_minor": 0
}
